{
 "cells": [
  {
   "cell_type": "markdown",
   "metadata": {
    "colab_type": "text",
    "id": "R_1ndpud4ki4"
   },
   "source": [
    "# Find duplicate questions on StackOverflow by their embeddings\n",
    "\n",
    "In this assignment you will learn how to calculate a similarity for pieces of text. Using this approach you will know how to find duplicate questions from [StackOverflow](https://stackoverflow.com)."
   ]
  },
  {
   "cell_type": "markdown",
   "metadata": {
    "colab_type": "text",
    "id": "TVUvI_Qn4ki8"
   },
   "source": [
    "### Libraries\n",
    "\n",
    "In this task you will you will need the following libraries:\n",
    "- [StarSpace](https://github.com/facebookresearch/StarSpace) — a general-purpose model for efficient learning of entity embeddings from Facebook\n",
    "- [Gensim](https://radimrehurek.com/gensim/) — a tool for solving various NLP-related tasks (topic modeling, text representation, ...)\n",
    "- [Numpy](http://www.numpy.org) — a package for scientific computing.\n",
    "- [scikit-learn](http://scikit-learn.org/stable/index.html) — a tool for data mining and data analysis.\n",
    "- [Nltk](http://www.nltk.org) — a platform to work with human language data."
   ]
  },
  {
   "cell_type": "markdown",
   "metadata": {
    "colab_type": "text",
    "id": "u26lwRNo4ki-"
   },
   "source": [
    "### Data\n",
    "\n",
    "The following cell will download all data required for this assignment into the folder `week3/data`."
   ]
  },
  {
   "cell_type": "code",
   "execution_count": 2,
   "metadata": {
    "colab": {
     "base_uri": "https://localhost:8080/",
     "height": 228
    },
    "colab_type": "code",
    "id": "PySwRZtaQW1o",
    "outputId": "00865622-d6b5-4936-9080-632cf97205e8"
   },
   "outputs": [
    {
     "name": "stdout",
     "output_type": "stream",
     "text": [
      "--2020-04-14 10:47:19--  https://raw.githubusercontent.com/hse-aml/natural-language-processing/master/setup_google_colab.py\n",
      "Resolving raw.githubusercontent.com (raw.githubusercontent.com)... 151.101.0.133, 151.101.64.133, 151.101.128.133, ...\n",
      "Connecting to raw.githubusercontent.com (raw.githubusercontent.com)|151.101.0.133|:443... connected.\n",
      "HTTP request sent, awaiting response... 200 OK\n",
      "Length: 1991 (1.9K) [text/plain]\n",
      "Saving to: ‘setup_google_colab.py’\n",
      "\n",
      "\r",
      "setup_google_colab.   0%[                    ]       0  --.-KB/s               \r",
      "setup_google_colab. 100%[===================>]   1.94K  --.-KB/s    in 0s      \n",
      "\n",
      "2020-04-14 10:47:19 (37.5 MB/s) - ‘setup_google_colab.py’ saved [1991/1991]\n",
      "\n"
     ]
    }
   ],
   "source": [
    "! wget https://raw.githubusercontent.com/hse-aml/natural-language-processing/master/setup_google_colab.py -O setup_google_colab.py\n",
    "import setup_google_colab\n",
    "setup_google_colab.setup_week3()"
   ]
  },
  {
   "cell_type": "code",
   "execution_count": 3,
   "metadata": {
    "colab": {
     "base_uri": "https://localhost:8080/",
     "height": 281,
     "referenced_widgets": [
      "32ff91d57999419cb5b9460e4c3cc112",
      "83b87dac40b34e3da9ee0df0c6824cac",
      "0d9de0f2fb034acbae3a265fbe9e2293",
      "03d493e271b040cdbe6eba6ffe7a49ff",
      "16064b5dc18a426d826cd90890baa583",
      "a142e71a5ebe427984dcfc407784c7db",
      "7007721eda694375ba2ca2778cb61c16",
      "563b1e553ebb4d39875aec2d8b12c84a",
      "032cb928db744c98ab702067a5e28995",
      "c7f58ef3ab4f42eaab754d8779c9e517",
      "1bf899a919c74aada2c49faf88a8bafc",
      "31fac6a5adcc487f9b19d6061c438741",
      "20f545bc1a8f4dfba3fb4178675715a3",
      "29269a4f9a6b4a5a8548cf7ce42adb1f",
      "2531231ebb114ed499085aef83113430",
      "c464b1a512fe4ccbb1a4e8d9fe17a632",
      "682384be1612483ba3af2b5f5037f8d3",
      "f9080b9b8f5e417ca9e95d00a3558141",
      "26674fd798ee41b9a4bddcd628f100f2",
      "beb08e6015de48499170457db7f0cee1",
      "a9cc6c3d1b9c4d22b24337177ba05663",
      "d1b99867b6ad48b2bcdb8d4e879f6c39",
      "0cc25b76d27b4df9b346313e56da7db4",
      "655123c3a4bf41909edce7188b59a4ed",
      "f04025f9fdaa4262aaa71d439b29945f",
      "1a050a7165e74ddcacfd69edb2a3d90d",
      "db9f4b852ff34d749e287462d44ad04f",
      "b07ae63a8efe497091604eed2bb089de",
      "aeaf19d425224907bff64043888d8fbc",
      "04cd7fbecc514284945bcce0d9cbe2dc",
      "db4cc3fafcc94d2dba537d0b162269d8",
      "20d31cb042a949bd832f3508da18b4b3",
      "ed640398358b4f6d9a31e1cce892e557",
      "a56be0fd2b0f472d8f0421e11180c45f",
      "05bdcc4354ca4e5ebf3d4ead8d73e2dc",
      "71923978280c4a86a79a31e2fd74b609",
      "5281d2083f5e4ad08ad9e5218cc13f16",
      "3bd7fec10ef6486a8e33e2b7502cf95c",
      "ef7f25db83be4b19ac1c352dcc21666b",
      "cc07617a2df04c6c968186063752aa4d"
     ]
    },
    "colab_type": "code",
    "id": "UUfWihQa4kjA",
    "outputId": "f82c2648-7436-42d9-e925-9042e6673ce5"
   },
   "outputs": [
    {
     "data": {
      "application/vnd.jupyter.widget-view+json": {
       "model_id": "32ff91d57999419cb5b9460e4c3cc112",
       "version_major": 2,
       "version_minor": 0
      },
      "text/plain": [
       "HBox(children=(FloatProgress(value=0.0, max=119127793.0), HTML(value='')))"
      ]
     },
     "metadata": {
      "tags": []
     },
     "output_type": "display_data"
    },
    {
     "name": "stdout",
     "output_type": "stream",
     "text": [
      "\n"
     ]
    },
    {
     "data": {
      "application/vnd.jupyter.widget-view+json": {
       "model_id": "032cb928db744c98ab702067a5e28995",
       "version_major": 2,
       "version_minor": 0
      },
      "text/plain": [
       "HBox(children=(FloatProgress(value=0.0, max=535543630.0), HTML(value='')))"
      ]
     },
     "metadata": {
      "tags": []
     },
     "output_type": "display_data"
    },
    {
     "name": "stdout",
     "output_type": "stream",
     "text": [
      "\n"
     ]
    },
    {
     "data": {
      "application/vnd.jupyter.widget-view+json": {
       "model_id": "682384be1612483ba3af2b5f5037f8d3",
       "version_major": 2,
       "version_minor": 0
      },
      "text/plain": [
       "HBox(children=(FloatProgress(value=0.0, max=46408910.0), HTML(value='')))"
      ]
     },
     "metadata": {
      "tags": []
     },
     "output_type": "display_data"
    },
    {
     "name": "stdout",
     "output_type": "stream",
     "text": [
      "\n"
     ]
    },
    {
     "data": {
      "application/vnd.jupyter.widget-view+json": {
       "model_id": "f04025f9fdaa4262aaa71d439b29945f",
       "version_major": 2,
       "version_minor": 0
      },
      "text/plain": [
       "HBox(children=(FloatProgress(value=0.0, max=5333.0), HTML(value='')))"
      ]
     },
     "metadata": {
      "tags": []
     },
     "output_type": "display_data"
    },
    {
     "name": "stdout",
     "output_type": "stream",
     "text": [
      "\n",
      "Downloading GoogleNews-vectors-negative300.bin.gz (1.5G) for you, it will take a while...\n"
     ]
    },
    {
     "data": {
      "application/vnd.jupyter.widget-view+json": {
       "model_id": "ed640398358b4f6d9a31e1cce892e557",
       "version_major": 2,
       "version_minor": 0
      },
      "text/plain": [
       "HBox(children=(FloatProgress(value=0.0, max=1647046227.0), HTML(value='')))"
      ]
     },
     "metadata": {
      "tags": []
     },
     "output_type": "display_data"
    },
    {
     "name": "stdout",
     "output_type": "stream",
     "text": [
      "\n"
     ]
    }
   ],
   "source": [
    "import sys\n",
    "sys.path.append(\"..\")\n",
    "from common.download_utils import download_week3_resources\n",
    "\n",
    "download_week3_resources()"
   ]
  },
  {
   "cell_type": "markdown",
   "metadata": {
    "colab_type": "text",
    "id": "1Hv11YEe4kjO"
   },
   "source": [
    "### Grading\n",
    "We will create a grader instace below and use it to collect your answers. Note that these outputs will be stored locally inside grader and will be uploaded to platform only after running submiting function in the last part of this assignment. If you want to make partial submission, you can run that cell any time you want."
   ]
  },
  {
   "cell_type": "code",
   "execution_count": 0,
   "metadata": {
    "colab": {},
    "colab_type": "code",
    "id": "Mauh0pLr4kjP"
   },
   "outputs": [],
   "source": [
    "from grader import Grader"
   ]
  },
  {
   "cell_type": "code",
   "execution_count": 0,
   "metadata": {
    "colab": {},
    "colab_type": "code",
    "id": "_-UYExRy4kjX"
   },
   "outputs": [],
   "source": [
    "grader = Grader()"
   ]
  },
  {
   "cell_type": "markdown",
   "metadata": {
    "colab_type": "text",
    "id": "TPKgoAWg4kjd"
   },
   "source": [
    "## Word embedding\n",
    "\n",
    "To solve the problem, you will use two different models of embeddings:\n",
    "\n",
    " - [Pre-trained word vectors](https://code.google.com/archive/p/word2vec/) from Google which were trained on a part of Google News dataset (about 100 billion words). The model contains 300-dimensional vectors for 3 million words and phrases. `GoogleNews-vectors-negative300.bin.gz` will be downloaded in `download_week3_resources()`.\n",
    " - Representations using StarSpace on StackOverflow data sample. You will need to train them from scratch."
   ]
  },
  {
   "cell_type": "markdown",
   "metadata": {
    "colab_type": "text",
    "id": "MTem8iLh4kjf"
   },
   "source": [
    "It's always easier to start with pre-trained embeddings. Unpack the pre-trained Goggle's vectors and upload them using the function [KeyedVectors.load_word2vec_format](https://radimrehurek.com/gensim/models/keyedvectors.html) from gensim library with the parameter *binary=True*. If the size of the embeddings is larger than the avaliable memory, you could load only a part of the embeddings by defining the parameter *limit* (recommended: 500000)."
   ]
  },
  {
   "cell_type": "code",
   "execution_count": 0,
   "metadata": {
    "colab": {},
    "colab_type": "code",
    "id": "ra3jTBCV4kjg"
   },
   "outputs": [],
   "source": [
    "import gensim"
   ]
  },
  {
   "cell_type": "code",
   "execution_count": 0,
   "metadata": {
    "colab": {},
    "colab_type": "code",
    "id": "aNJrgulO4kjn"
   },
   "outputs": [],
   "source": [
    "wv_embeddings = gensim.models.KeyedVectors.load_word2vec_format(\n",
    "    'GoogleNews-vectors-negative300.bin.gz', binary=True, limit=500000)"
   ]
  },
  {
   "cell_type": "markdown",
   "metadata": {
    "colab_type": "text",
    "id": "QKZWMKMl4kjv"
   },
   "source": [
    "### How to work with Google's word2vec embeddings?\n",
    "\n",
    "Once you have loaded the representations, make sure you can access them. First, you can check if the loaded embeddings contain a word:\n",
    "    \n",
    "    'word' in wv_embeddings\n",
    "    \n",
    "Second, to get the corresponding embedding you can use the square brackets:\n",
    "\n",
    "    wv_embeddings['word']\n",
    " \n",
    "### Checking that the embeddings are correct \n",
    " \n",
    "To prevent any errors during the first stage, we can check that the loaded embeddings are correct. You can call the function *check_embeddings*, implemented below, which runs 3 tests:\n",
    "1. Find the most similar word for provided \"positive\" and \"negative\" words.\n",
    "2. Find which word from the given list doesn’t go with the others.\n",
    "3. Find the most similar word for the provided one.\n",
    "\n",
    "In the right case the function will return the string *These embeddings look good*. Othervise, you need to validate the previous steps."
   ]
  },
  {
   "cell_type": "code",
   "execution_count": 0,
   "metadata": {
    "colab": {},
    "colab_type": "code",
    "id": "krGHoFFT4kjw"
   },
   "outputs": [],
   "source": [
    "def check_embeddings(embeddings):\n",
    "    error_text = \"Something wrong with your embeddings ('%s test isn't correct).\"\n",
    "    most_similar = embeddings.most_similar(positive=['woman', 'king'], negative=['man'])\n",
    "    if len(most_similar) < 1 or most_similar[0][0] != 'queen':\n",
    "        return error_text % \"Most similar\"\n",
    "\n",
    "    doesnt_match = embeddings.doesnt_match(['breakfast', 'cereal', 'dinner', 'lunch'])\n",
    "    if doesnt_match != 'cereal':\n",
    "        return error_text % \"Doesn't match\"\n",
    "    \n",
    "    most_similar_to_given = embeddings.most_similar_to_given('music', ['water', 'sound', 'backpack', 'mouse'])\n",
    "    if most_similar_to_given != 'sound':\n",
    "        return error_text % \"Most similar to given\"\n",
    "    \n",
    "    return \"These embeddings look good.\""
   ]
  },
  {
   "cell_type": "code",
   "execution_count": 9,
   "metadata": {
    "colab": {
     "base_uri": "https://localhost:8080/",
     "height": 89
    },
    "colab_type": "code",
    "id": "284msy_z4kj1",
    "outputId": "e9aeeb49-3510-4ce7-ba06-0f83db609b4c"
   },
   "outputs": [
    {
     "name": "stdout",
     "output_type": "stream",
     "text": [
      "These embeddings look good.\n"
     ]
    },
    {
     "name": "stderr",
     "output_type": "stream",
     "text": [
      "/usr/local/lib/python3.6/dist-packages/gensim/models/keyedvectors.py:877: FutureWarning: arrays to stack must be passed as a \"sequence\" type such as list or tuple. Support for non-sequence iterables such as generators is deprecated as of NumPy 1.16 and will raise an error in the future.\n",
      "  vectors = vstack(self.word_vec(word, use_norm=True) for word in used_words).astype(REAL)\n"
     ]
    }
   ],
   "source": [
    "print(check_embeddings(wv_embeddings))"
   ]
  },
  {
   "cell_type": "markdown",
   "metadata": {
    "colab_type": "text",
    "id": "qIA2zgX_4kj6"
   },
   "source": [
    "## From word to text embeddings\n",
    "\n",
    "**Task 1 (Question2Vec).** Usually, we have word-based embeddings, but for the task we need to create a representation for the whole question. It could be done in different ways. In our case we will use a **mean** of all word vectors in the question. Now you need to implement the function *question_to_vec*, which calculates the question representation described above. This function should work with the input text as is without any preprocessing.\n",
    "\n",
    "Note that there could be words without the corresponding embeddings. In this case, you can just skip these words and don't take them into account during calculating the result. If the question doesn't contain any known word with embedding, the function should return a zero vector."
   ]
  },
  {
   "cell_type": "code",
   "execution_count": 0,
   "metadata": {
    "colab": {},
    "colab_type": "code",
    "id": "98ZlGOS54kj7"
   },
   "outputs": [],
   "source": [
    "import numpy as np"
   ]
  },
  {
   "cell_type": "code",
   "execution_count": 0,
   "metadata": {
    "colab": {},
    "colab_type": "code",
    "id": "DHlLHuSG4kkB"
   },
   "outputs": [],
   "source": [
    "def question_to_vec(question, embeddings, dim=300):\n",
    "    \"\"\"\n",
    "        question: a string\n",
    "        embeddings: dict where the key is a word and a value is its' embedding\n",
    "        dim: size of the representation\n",
    "\n",
    "        result: vector representation for the question\n",
    "    \"\"\"\n",
    "    result = np.zeros(dim)\n",
    "    cnt = 0\n",
    "    words = question.split()\n",
    "    for word in words:\n",
    "        if word in embeddings:\n",
    "            result += np.array(embeddings[word])\n",
    "            cnt += 1\n",
    "    if cnt != 0:\n",
    "        result /= cnt\n",
    "    return result"
   ]
  },
  {
   "cell_type": "markdown",
   "metadata": {
    "colab_type": "text",
    "id": "Be5Dx3GA4kkG"
   },
   "source": [
    "To check the basic correctness of your implementation, run the function *question_to_vec_tests*."
   ]
  },
  {
   "cell_type": "code",
   "execution_count": 0,
   "metadata": {
    "colab": {},
    "colab_type": "code",
    "id": "r83iHeaU4kkG"
   },
   "outputs": [],
   "source": [
    "def question_to_vec_tests():\n",
    "    if (np.zeros(300) != question_to_vec('', wv_embeddings)).any():\n",
    "        return \"You need to return zero vector for empty question.\"\n",
    "    if (np.zeros(300) != question_to_vec('thereisnosuchword', wv_embeddings)).any():\n",
    "        return \"You need to return zero vector for the question, which consists only unknown words.\"\n",
    "    if (wv_embeddings['word'] != question_to_vec('word', wv_embeddings)).any():\n",
    "        return \"You need to check the corectness of your function.\"\n",
    "    if ((wv_embeddings['I'] + wv_embeddings['am']) / 2 != question_to_vec('I am', wv_embeddings)).any():\n",
    "        return \"Your function should calculate a mean of word vectors.\"\n",
    "    if (wv_embeddings['word'] != question_to_vec('thereisnosuchword word', wv_embeddings)).any():\n",
    "        return \"You should not consider words which embeddings are unknown.\"\n",
    "    return \"Basic tests are passed.\""
   ]
  },
  {
   "cell_type": "code",
   "execution_count": 13,
   "metadata": {
    "colab": {
     "base_uri": "https://localhost:8080/",
     "height": 34
    },
    "colab_type": "code",
    "id": "nkHganBU4kkM",
    "outputId": "09237ab9-b8be-4bc0-9bbc-8f48acf6fe4a"
   },
   "outputs": [
    {
     "name": "stdout",
     "output_type": "stream",
     "text": [
      "Basic tests are passed.\n"
     ]
    }
   ],
   "source": [
    "print(question_to_vec_tests())"
   ]
  },
  {
   "cell_type": "markdown",
   "metadata": {
    "colab_type": "text",
    "id": "G5LQ1TbU4kkT"
   },
   "source": [
    "You can submit embeddings for the questions from the file *test_embeddings.tsv* to earn the points. In this task you don't need to transform the text of a question somehow."
   ]
  },
  {
   "cell_type": "code",
   "execution_count": 14,
   "metadata": {
    "colab": {
     "base_uri": "https://localhost:8080/",
     "height": 52
    },
    "colab_type": "code",
    "id": "rQpdie3V4kkV",
    "outputId": "55533438-3f5e-4c3a-e7d9-4fe4e57c8224"
   },
   "outputs": [
    {
     "name": "stderr",
     "output_type": "stream",
     "text": [
      "[nltk_data] Downloading package stopwords to /root/nltk_data...\n",
      "[nltk_data]   Unzipping corpora/stopwords.zip.\n"
     ]
    }
   ],
   "source": [
    "import nltk\n",
    "nltk.download('stopwords')\n",
    "from util import array_to_string"
   ]
  },
  {
   "cell_type": "code",
   "execution_count": 15,
   "metadata": {
    "colab": {
     "base_uri": "https://localhost:8080/",
     "height": 104
    },
    "colab_type": "code",
    "id": "WAkT5y1b4kka",
    "outputId": "ebf74bc7-7d20-4098-e3b1-2a31765ed198"
   },
   "outputs": [
    {
     "name": "stdout",
     "output_type": "stream",
     "text": [
      "Current answer for task Question2Vec is: 0.019293891059027776\n",
      "-0.028727213541666668\n",
      "0.046056111653645836\n",
      "0.08525933159722222\n",
      "0.02430555555555...\n"
     ]
    }
   ],
   "source": [
    "question2vec_result = []\n",
    "for question in open('data/test_embeddings.tsv'):\n",
    "    question = question.strip()\n",
    "    answer = question_to_vec(question, wv_embeddings)\n",
    "    question2vec_result = np.append(question2vec_result, answer)\n",
    "\n",
    "grader.submit_tag('Question2Vec', array_to_string(question2vec_result))"
   ]
  },
  {
   "cell_type": "markdown",
   "metadata": {
    "colab_type": "text",
    "id": "pBrvvuh84kkl"
   },
   "source": [
    "Now we have a method to create a representation of any sentence and we are ready for the first evaluation. So, let's check how well our solution (Google's vectors + *question_to_vec*) will work.\n",
    "\n",
    "## Evaluation of text similarity\n",
    "\n",
    "We can imagine that if we use good embeddings, the cosine similarity between the duplicate sentences should be less than for the random ones. Overall, for each pair of duplicate sentences we can generate *R* random negative examples and find out the position of the correct duplicate.  \n",
    "\n",
    "For example, we have the question *\"Exceptions What really happens\"* and we are sure that another question *\"How does the catch keyword determine the type of exception that was thrown\"* is a duplicate. But our model doesn't know it and tries to find out the best option also among questions like *\"How Can I Make These Links Rotate in PHP\"*, *\"NSLog array description not memory address\"* and *\"PECL_HTTP not recognised php ubuntu\"*. The goal of the model is to rank all these 4 questions (1 *positive* and *R* = 3 *negative*) in the way that the correct one is in the first place.\n",
    "\n",
    "However, it is unnatural to count on that the best candidate will be always in the first place. So let us consider the place of the best candidate in the sorted list of candidates and formulate a metric based on it. We can fix some *K* — a reasonalble number of top-ranked elements and *N* — a number of queries (size of the sample).\n",
    "\n",
    "### Hits@K\n",
    "\n",
    "The first simple metric will be a number of correct hits for some *K*:\n",
    "$$ \\text{Hits@K} = \\frac{1}{N}\\sum_{i=1}^N \\, [dup_i \\in topK(q_i)]$$\n",
    "\n",
    "where $q_i$ is the i-th query, $dup_i$ is its duplicate, $topK(q_i)$ is the top K elements of the ranked sentences provided by our model and the operation $[dup_i \\in topK(q_i)]$ equals 1 if the condition is true and 0 otherwise (more details about this operation could be found [here](https://en.wikipedia.org/wiki/Iverson_bracket)).\n",
    "\n",
    "\n",
    "### DCG@K\n",
    "The second one is a simplified [DCG metric](https://en.wikipedia.org/wiki/Discounted_cumulative_gain):\n",
    "\n",
    "$$ \\text{DCG@K} = \\frac{1}{N} \\sum_{i=1}^N\\frac{1}{\\log_2(1+rank_{dup_i})}\\cdot[rank_{dup_i} \\le K] $$\n",
    "\n",
    "where $rank_{dup_i}$ is a position of the duplicate in the sorted list of the nearest sentences for the query $q_i$. According to this metric, the model gets a higher reward for a higher position of the correct answer. If the answer does not appear in topK at all, the reward is zero. "
   ]
  },
  {
   "cell_type": "markdown",
   "metadata": {
    "colab_type": "text",
    "id": "eQBYtpuy4kkm"
   },
   "source": [
    "### Evaluation examples\n",
    "\n",
    "Let's calculate the described metrics for the toy example introduced above. In this case $N$ = 1 and the correct candidate for $q_1$ is *\"How does the catch keyword determine the type of exception that was thrown\"*. Consider the following ranking of the candidates:\n",
    "1. *\"How Can I Make These Links Rotate in PHP\"*\n",
    "2. *\"How does the catch keyword determine the type of exception that was thrown\"*\n",
    "3. *\"NSLog array description not memory address\"*\n",
    "4. *\"PECL_HTTP not recognised php ubuntu\"*\n",
    "\n",
    "Using the ranking above, calculate *Hits@K* metric for *K = 1, 2, 4*: \n",
    " \n",
    "- [K = 1] $\\text{Hits@1} = \\frac{1}{1}\\sum_{i=1}^1 \\, [dup_i \\in top1(q_i)] = [dup_1 \\in top1(q_1)] = 0$ because the correct answer doesn't appear in the *top1* list.\n",
    "- [K = 2] $\\text{Hits@2} = \\frac{1}{1}\\sum_{i=1}^1 \\, [dup_i \\in top2(q_i)] = [dup_1 \\in top2(q_1)] = 1$ because $rank_{dup_1} = 2$.\n",
    "- [K = 4] $\\text{Hits@4} = \\frac{1}{1}\\sum_{i=1}^1 \\, [dup_i \\in top4(q_i)] = [dup_1 \\in top4(q_1)] = 1$\n",
    "\n",
    "Using the ranking above, calculate *DCG@K* metric for *K = 1, 2, 4*:\n",
    "\n",
    "- [K = 1] $\\text{DCG@1} = \\frac{1}{1} \\sum_{i=1}^1\\frac{1}{\\log_2(1+rank_{dup_i})}\\cdot[rank_{dup_i} \\le 1] = \\frac{1}{\\log_2(1+rank_{dup_i})}\\cdot[rank_{dup_i} \\le 1] = 0$ because the correct answer doesn't appear in the top1 list.\n",
    "- [K = 2] $\\text{DCG@2} = \\frac{1}{1} \\sum_{i=1}^1\\frac{1}{\\log_2(1+rank_{dup_i})}\\cdot[rank_{dup_i} \\le 2] = \\frac{1}{\\log_2{3}}$, because $rank_{dup_1} = 2$.\n",
    "- [K = 4] $\\text{DCG@4} = \\frac{1}{1} \\sum_{i=1}^1\\frac{1}{\\log_2(1+rank_{dup_i})}\\cdot[rank_{dup_i} \\le 4] = \\frac{1}{\\log_2{3}}$.\n"
   ]
  },
  {
   "cell_type": "markdown",
   "metadata": {
    "colab_type": "text",
    "id": "qM2iOjZE4kkn"
   },
   "source": [
    "**Tasks 2 and 3 (HitsCount and DCGScore).** Implement the functions *hits_count* and *dcg_score* as described above. Each function has two arguments: *dup_ranks* and *k*. *dup_ranks* is a list which contains *values of ranks* of duplicates. For example, *dup_ranks* is *[2]* for the example provided above."
   ]
  },
  {
   "cell_type": "code",
   "execution_count": 0,
   "metadata": {
    "colab": {},
    "colab_type": "code",
    "id": "PMaPNdyS4kkn"
   },
   "outputs": [],
   "source": [
    "def hits_count(dup_ranks, k):\n",
    "    \"\"\"\n",
    "        dup_ranks: list of duplicates' ranks; one rank per question; \n",
    "                   length is a number of questions which we are looking for duplicates; \n",
    "                   rank is a number from 1 to len(candidates of the question); \n",
    "                   e.g. [2, 3] means that the first duplicate has the rank 2, the second one — 3.\n",
    "        k: number of top-ranked elements (k in Hits@k metric)\n",
    "\n",
    "        result: return Hits@k value for current ranking\n",
    "    \"\"\"\n",
    "    return np.average(np.array(dup_ranks) <= np.array([k]))"
   ]
  },
  {
   "cell_type": "markdown",
   "metadata": {
    "colab_type": "text",
    "id": "6LzUAka24kkr"
   },
   "source": [
    "Test your code on the tiny examples:"
   ]
  },
  {
   "cell_type": "code",
   "execution_count": 0,
   "metadata": {
    "colab": {},
    "colab_type": "code",
    "id": "4kyMV2SE4kks"
   },
   "outputs": [],
   "source": [
    "def test_hits():\n",
    "    # *Evaluation example*\n",
    "    # answers — dup_i\n",
    "    answers = [\"How does the catch keyword determine the type of exception that was thrown\"]\n",
    "    \n",
    "    # candidates_ranking — the ranked sentences provided by our model\n",
    "    candidates_ranking = [[\"How Can I Make These Links Rotate in PHP\", \n",
    "                           \"How does the catch keyword determine the type of exception that was thrown\",\n",
    "                           \"NSLog array description not memory address\",\n",
    "                           \"PECL_HTTP not recognised php ubuntu\"]]\n",
    "    # dup_ranks — position of the dup_i in the list of ranks +1\n",
    "    dup_ranks = [candidates_ranking[i].index(answers[i]) + 1 for i in range(len(answers))]\n",
    "    \n",
    "    # correct_answers — the expected values of the result for each k from 1 to 4\n",
    "    correct_answers = [0, 1, 1, 1]\n",
    "    for k, correct in enumerate(correct_answers, 1):\n",
    "        if not np.isclose(hits_count(dup_ranks, k), correct):\n",
    "            return \"Check the function.\"\n",
    "    \n",
    "    # Other tests\n",
    "    answers = [\"How does the catch keyword determine the type of exception that was thrown\", \n",
    "               \"Convert Google results object (pure js) to Python object\"]\n",
    "    \n",
    "    # The first test: both duplicates on the first position in ranked list\n",
    "    candidates_ranking = [[\"How does the catch keyword determine the type of exception that was thrown\",\n",
    "                           \"How Can I Make These Links Rotate in PHP\"], \n",
    "                          [\"Convert Google results object (pure js) to Python object\",\n",
    "                           \"WPF- How to update the changes in list item of a list\"]]\n",
    "    dup_ranks = [candidates_ranking[i].index(answers[i]) + 1 for i in range(len(answers))]\n",
    "    correct_answers = [1, 1]\n",
    "    for k, correct in enumerate(correct_answers, 1):\n",
    "        if not np.isclose(hits_count(dup_ranks, k), correct):\n",
    "            return \"Check the function (test: both duplicates on the first position in ranked list).\"\n",
    "        \n",
    "    # The second test: one candidate on the first position, another — on the second\n",
    "    candidates_ranking = [[\"How Can I Make These Links Rotate in PHP\", \n",
    "                           \"How does the catch keyword determine the type of exception that was thrown\"], \n",
    "                          [\"Convert Google results object (pure js) to Python object\",\n",
    "                           \"WPF- How to update the changes in list item of a list\"]]\n",
    "    dup_ranks = [candidates_ranking[i].index(answers[i]) + 1 for i in range(len(answers))]\n",
    "    correct_answers = [0.5, 1]\n",
    "    for k, correct in enumerate(correct_answers, 1):\n",
    "        if not np.isclose(hits_count(dup_ranks, k), correct):\n",
    "            return \"Check the function (test: one candidate on the first position, another — on the second).\"\n",
    "\n",
    "    # The third test: both candidates on the second position\n",
    "    candidates_ranking = [[\"How Can I Make These Links Rotate in PHP\", \n",
    "                           \"How does the catch keyword determine the type of exception that was thrown\"], \n",
    "                          [\"WPF- How to update the changes in list item of a list\",\n",
    "                           \"Convert Google results object (pure js) to Python object\"]]\n",
    "    dup_ranks = [candidates_ranking[i].index(answers[i]) + 1 for i in range(len(answers))]\n",
    "    correct_answers = [0, 1]\n",
    "    for k, correct in enumerate(correct_answers, 1):\n",
    "        if not np.isclose(hits_count(dup_ranks, k), correct):\n",
    "            return \"Check the function (test: both candidates on the second position).\"\n",
    "\n",
    "    return \"Basic test are passed.\""
   ]
  },
  {
   "cell_type": "code",
   "execution_count": 18,
   "metadata": {
    "colab": {
     "base_uri": "https://localhost:8080/",
     "height": 34
    },
    "colab_type": "code",
    "id": "xlSMFz3c4kkw",
    "outputId": "18e6da66-b9e5-4d19-fa18-8e5813dcb447"
   },
   "outputs": [
    {
     "name": "stdout",
     "output_type": "stream",
     "text": [
      "Basic test are passed.\n"
     ]
    }
   ],
   "source": [
    "print(test_hits())"
   ]
  },
  {
   "cell_type": "code",
   "execution_count": 0,
   "metadata": {
    "colab": {},
    "colab_type": "code",
    "id": "Bo78VcA_4kk1"
   },
   "outputs": [],
   "source": [
    "def dcg_score(dup_ranks, k):\n",
    "    \"\"\"\n",
    "        dup_ranks: list of duplicates' ranks; one rank per question; \n",
    "                   length is a number of questions which we are looking for duplicates; \n",
    "                   rank is a number from 1 to len(candidates of the question); \n",
    "                   e.g. [2, 3] means that the first duplicate has the rank 2, the second one — 3.\n",
    "        k: number of top-ranked elements (k in DCG@k metric)\n",
    "\n",
    "        result: return DCG@k value for current ranking\n",
    "    \"\"\"\n",
    "    return np.average((np.array(dup_ranks) <= np.array([k]))*1./(np.log2(1. + np.array(dup_ranks))))"
   ]
  },
  {
   "cell_type": "code",
   "execution_count": 0,
   "metadata": {
    "colab": {},
    "colab_type": "code",
    "id": "EMJ3KH0j4kk5"
   },
   "outputs": [],
   "source": [
    "def test_dcg():\n",
    "    # *Evaluation example*\n",
    "    # answers — dup_i\n",
    "    answers = [\"How does the catch keyword determine the type of exception that was thrown\"]\n",
    "    \n",
    "    # candidates_ranking — the ranked sentences provided by our model\n",
    "    candidates_ranking = [[\"How Can I Make These Links Rotate in PHP\", \n",
    "                           \"How does the catch keyword determine the type of exception that was thrown\",\n",
    "                           \"NSLog array description not memory address\",\n",
    "                           \"PECL_HTTP not recognised php ubuntu\"]]\n",
    "    # dup_ranks — position of the dup_i in the list of ranks +1\n",
    "    dup_ranks = [candidates_ranking[i].index(answers[i]) + 1 for i in range(len(answers))]\n",
    "    \n",
    "    # correct_answers — the expected values of the result for each k from 1 to 4\n",
    "    correct_answers = [0, 1 / (np.log2(3)), 1 / (np.log2(3)), 1 / (np.log2(3))]\n",
    "    for k, correct in enumerate(correct_answers, 1):\n",
    "        if not np.isclose(dcg_score(dup_ranks, k), correct):\n",
    "            return \"Check the function.\"\n",
    "    \n",
    "    # Other tests\n",
    "    answers = [\"How does the catch keyword determine the type of exception that was thrown\", \n",
    "               \"Convert Google results object (pure js) to Python object\"]\n",
    "\n",
    "    # The first test: both duplicates on the first position in ranked list\n",
    "    candidates_ranking = [[\"How does the catch keyword determine the type of exception that was thrown\",\n",
    "                           \"How Can I Make These Links Rotate in PHP\"], \n",
    "                          [\"Convert Google results object (pure js) to Python object\",\n",
    "                           \"WPF- How to update the changes in list item of a list\"]]\n",
    "    dup_ranks = [candidates_ranking[i].index(answers[i]) + 1 for i in range(len(answers))]\n",
    "    correct_answers = [1, 1]\n",
    "    for k, correct in enumerate(correct_answers, 1):\n",
    "        if not np.isclose(dcg_score(dup_ranks, k), correct):\n",
    "            return \"Check the function (test: both duplicates on the first position in ranked list).\"\n",
    "        \n",
    "    # The second test: one candidate on the first position, another — on the second\n",
    "    candidates_ranking = [[\"How Can I Make These Links Rotate in PHP\", \n",
    "                           \"How does the catch keyword determine the type of exception that was thrown\"], \n",
    "                          [\"Convert Google results object (pure js) to Python object\",\n",
    "                           \"WPF- How to update the changes in list item of a list\"]]\n",
    "    dup_ranks = [candidates_ranking[i].index(answers[i]) + 1 for i in range(len(answers))]\n",
    "    correct_answers = [0.5, (1 + (1 / (np.log2(3)))) / 2]\n",
    "    for k, correct in enumerate(correct_answers, 1):\n",
    "        if not np.isclose(dcg_score(dup_ranks, k), correct):\n",
    "            return \"Check the function (test: one candidate on the first position, another — on the second).\"\n",
    "        \n",
    "    # The third test: both candidates on the second position\n",
    "    candidates_ranking = [[\"How Can I Make These Links Rotate in PHP\",\n",
    "                           \"How does the catch keyword determine the type of exception that was thrown\"], \n",
    "                          [\"WPF- How to update the changes in list item of a list\",\n",
    "                           \"Convert Google results object (pure js) to Python object\"]]\n",
    "    dup_ranks = [candidates_ranking[i].index(answers[i]) + 1 for i in range(len(answers))]\n",
    "    correct_answers = [0, 1 / (np.log2(3))]\n",
    "    for k, correct in enumerate(correct_answers, 1):\n",
    "        if not np.isclose(dcg_score(dup_ranks, k), correct):\n",
    "            return \"Check the function (test: both candidates on the second position).\"\n",
    "\n",
    "    return \"Basic test are passed.\""
   ]
  },
  {
   "cell_type": "code",
   "execution_count": 21,
   "metadata": {
    "colab": {
     "base_uri": "https://localhost:8080/",
     "height": 34
    },
    "colab_type": "code",
    "id": "Werbzd1v4kk9",
    "outputId": "d6e53b2c-d8e8-4955-be75-59c00030e8d9"
   },
   "outputs": [
    {
     "name": "stdout",
     "output_type": "stream",
     "text": [
      "Basic test are passed.\n"
     ]
    }
   ],
   "source": [
    "print(test_dcg())"
   ]
  },
  {
   "cell_type": "markdown",
   "metadata": {
    "colab_type": "text",
    "id": "4825wP1M4klB"
   },
   "source": [
    "Submit results of the functions *hits_count* and *dcg_score* for the following examples to earn the points."
   ]
  },
  {
   "cell_type": "code",
   "execution_count": 0,
   "metadata": {
    "colab": {},
    "colab_type": "code",
    "id": "exIvtm4e4klC"
   },
   "outputs": [],
   "source": [
    "test_examples = [\n",
    "    [1],\n",
    "    [1, 2],\n",
    "    [2, 1],\n",
    "    [1, 2, 3],\n",
    "    [1, 2, 3, 4, 5, 6, 7, 8, 9, 10],\n",
    "    [9, 5, 4, 2, 8, 10, 7, 6, 1, 3],\n",
    "    [4, 3, 5, 1, 9, 10, 7, 8, 2, 6],\n",
    "    [5, 1, 7, 6, 2, 3, 8, 9, 10, 4],\n",
    "    [6, 3, 1, 4, 7, 2, 9, 8, 10, 5],\n",
    "    [10, 9, 8, 7, 6, 5, 4, 3, 2, 1],\n",
    "]"
   ]
  },
  {
   "cell_type": "code",
   "execution_count": 23,
   "metadata": {
    "colab": {
     "base_uri": "https://localhost:8080/",
     "height": 330
    },
    "colab_type": "code",
    "id": "Xq0OLhNX4klG",
    "outputId": "1412104a-81a3-4096-cc6a-3642351cbc1f"
   },
   "outputs": [
    {
     "name": "stdout",
     "output_type": "stream",
     "text": [
      "Current answer for task HitsCount is: 1.0\n",
      "0.5\n",
      "1.0\n",
      "0.5\n",
      "1.0\n",
      "0.3333333333333333\n",
      "0.6666666666666666\n",
      "1.0\n",
      "0.1\n",
      "0.2\n",
      "0.3\n",
      "0.4\n",
      "0.5\n",
      "0.6\n",
      "0.7\n",
      "0.8\n",
      "0.9\n",
      "1....\n"
     ]
    }
   ],
   "source": [
    "hits_results = []\n",
    "for example in test_examples:\n",
    "    for k in range(len(example)):\n",
    "        hits_results.append(hits_count(example, k + 1))\n",
    "grader.submit_tag('HitsCount', array_to_string(hits_results))"
   ]
  },
  {
   "cell_type": "code",
   "execution_count": 24,
   "metadata": {
    "colab": {
     "base_uri": "https://localhost:8080/",
     "height": 156
    },
    "colab_type": "code",
    "id": "fhKmCAMm4klM",
    "outputId": "228c8455-ba80-409e-e60d-5dda404e6df3"
   },
   "outputs": [
    {
     "name": "stdout",
     "output_type": "stream",
     "text": [
      "Current answer for task DCGScore is: 1.0\n",
      "0.5\n",
      "0.8154648767857288\n",
      "0.5\n",
      "0.8154648767857288\n",
      "0.3333333333333333\n",
      "0.5436432511904858\n",
      "0.7103099178...\n"
     ]
    }
   ],
   "source": [
    "dcg_results = []\n",
    "for example in test_examples:\n",
    "    for k in range(len(example)):\n",
    "        dcg_results.append(dcg_score(example, k + 1))\n",
    "grader.submit_tag('DCGScore', array_to_string(dcg_results))"
   ]
  },
  {
   "cell_type": "markdown",
   "metadata": {
    "colab_type": "text",
    "id": "d_mSIAhW4klR"
   },
   "source": [
    "##  First solution: pre-trained embeddings"
   ]
  },
  {
   "cell_type": "markdown",
   "metadata": {
    "colab_type": "text",
    "id": "OmKE5DdQ4klR"
   },
   "source": [
    "We will work with predefined train, validation and test corpora. All the files are tab-separated, but have a different format:\n",
    " - *train* corpus contains similar sentences at the same row.\n",
    " - *validation* corpus contains the following columns: *question*, *similar question*, *negative example 1*, *negative example 2*, ... \n",
    " - *test* corpus contains the following columns: *question*, *example 1*, *example 2*, ...\n",
    "\n",
    "Validation corpus will be used for the intermediate validation of models. The test data will be necessary for submitting the quality of your model in the system."
   ]
  },
  {
   "cell_type": "markdown",
   "metadata": {
    "colab_type": "text",
    "id": "igKsFz-X4klS"
   },
   "source": [
    "Now you should read *validation* corpus, located at `data/validation.tsv`. You will use it later to evaluate current solution."
   ]
  },
  {
   "cell_type": "code",
   "execution_count": 0,
   "metadata": {
    "colab": {},
    "colab_type": "code",
    "id": "986oMdru4klS"
   },
   "outputs": [],
   "source": [
    "def read_corpus(filename):\n",
    "    data = []\n",
    "    for line in open(filename, encoding='utf-8'):\n",
    "        data.append(line.strip().split('\\t'))\n",
    "    return data"
   ]
  },
  {
   "cell_type": "code",
   "execution_count": 0,
   "metadata": {
    "colab": {},
    "colab_type": "code",
    "id": "sBuzAiJj4klW"
   },
   "outputs": [],
   "source": [
    "validation = read_corpus('data/validation.tsv')"
   ]
  },
  {
   "cell_type": "code",
   "execution_count": 47,
   "metadata": {
    "colab": {
     "base_uri": "https://localhost:8080/",
     "height": 1000
    },
    "colab_type": "code",
    "id": "IB0bS3k14kla",
    "outputId": "d31c9cc6-f741-4acb-8af2-33059c206387"
   },
   "outputs": [
    {
     "data": {
      "text/plain": [
       "[['How to print a binary heap tree without recursion?',\n",
       "  'How do you best convert a recursive function to an iterative one?',\n",
       "  'How can i use ng-model with directive in angular js',\n",
       "  'flash: drawing and erasing',\n",
       "  'toggle react component using hide show classname',\n",
       "  'Use a usercontrol from another project to current webpage',\n",
       "  '~ Paths resolved differently after upgrading to ASP.NET 4',\n",
       "  'Materialize datepicker - Rendering when an icon is clicked',\n",
       "  'Creating PyPi package - Could not find a version that satisfies the requirement iso8601',\n",
       "  'How can I analyze a confusion matrix?',\n",
       "  'How do I declare a C array in Swift?',\n",
       "  'Using rand() when flipping a coin and rolling a die',\n",
       "  'Handling a JSON field with a special character in its name in Java',\n",
       "  'React Native select row on ListView when push it',\n",
       "  \"Get 'creation_time' of video using ffmpeg and regex\",\n",
       "  'Does row exist and multiple where',\n",
       "  \"How to specify a classifier in a gradle dependency's dependency?\",\n",
       "  'Using $unwind on multiple documents',\n",
       "  'Visual Studio Code: Missing X509Certificate2UI',\n",
       "  'Developing Cordova plugins for Firefox OS',\n",
       "  'Update multiple rows for 2 columns in MySQL',\n",
       "  'Analyse format of alpha-numeric string',\n",
       "  'Dealing with large TIFF images C++/Magick/libtiff',\n",
       "  'What does Error: [$injector:unpr] Unknown provider: tProvider <- t <- myActiveLinkDirective mean?',\n",
       "  'AngularJS - Apply directive instantly, formating currency',\n",
       "  'Can I change the font color on a portion of a string?',\n",
       "  \"Spring AOP does not intercept methods within Spring's container\",\n",
       "  'How to retrieve json in original nested form in apache solr?',\n",
       "  \"Spatial autocorrelation using Moran's I or other spatial overlap index\",\n",
       "  'how to stop my php page from continuing when field is empty',\n",
       "  'Selecting all CheckBoxes in ListBox not displayed properly',\n",
       "  \"PHP warning: Illegal string offset 'field'\",\n",
       "  'WebBrowser control crashes on Windows 10',\n",
       "  'Error while opening a modal in angular',\n",
       "  'Port 25 works when exe run manually but blocked when run as service',\n",
       "  'Why does 6.00 + (plus) 5.00 = \"5.006.00\"?',\n",
       "  'Count number of processes created using fork in a for loop',\n",
       "  'When should I use UIImagePickerControllerSourceTypePhotoLibrary instead of UIImagePickerControllerSourceTypeSavedPhotosAlbum?',\n",
       "  'Read File in Java, output the first comma delimited String',\n",
       "  'Simple recursive method',\n",
       "  'Ensure SQLite table only has one row',\n",
       "  'Why is there a method iterator() on java.util.Collection',\n",
       "  'Development for Cloudant using local CouchDB',\n",
       "  'Regex to find method calls',\n",
       "  'ASP.NET Menu rendering different from vs2008 to vs2010',\n",
       "  'Maven - Change jUnit Version in Quickstart Archetype',\n",
       "  'Writing sublists in a list of lists to separate text files',\n",
       "  'iPad: problems with table rows in popovercontrol',\n",
       "  'Retrieve multiple results set',\n",
       "  'pagination is not working in codeigniter :(',\n",
       "  'Angular NVD3 Change Colors In Legends Also',\n",
       "  'node.js server not responding while large file upload with express and busboy',\n",
       "  'Send request & Get Response in Windows Phone 8.1 WinRT',\n",
       "  'want to delete only empty folders from directory before last 30 days using batch',\n",
       "  'Creating X amount of threads that execute a task at the same time',\n",
       "  'Android Studio 2.2 update: aligned APK (zipAlign) not generated using the new Gradle Plugin 2.2.0',\n",
       "  'Entity Framework - adding the same entity twice in many-to-many relationships',\n",
       "  'Join two tables, only display unique values and maxium date',\n",
       "  'How to use absolute position relative to parent element',\n",
       "  'Search refinement for WebMatrix site',\n",
       "  'Maven project version as expression, not constant',\n",
       "  'Can I prevent App.g.i.cs to be generated?',\n",
       "  'Troubles converting XSD to Java using JAXB',\n",
       "  'Cannot run a jax rs web service with tomcat',\n",
       "  'make a password protected bash script resist/refuse \"bash -x\" when the password is given',\n",
       "  'Does youtube api play function trigger a view count?',\n",
       "  'Why is this Perl loop over strings then characters so slow?',\n",
       "  'How can I change the size of rgl plots in Shiny RMarkdown?',\n",
       "  'How do I programmatically disconnect clients which are connected to Solace appliance?',\n",
       "  'Rails before_filter (Correct_user OR Admin)',\n",
       "  'How to gitignore everything except hidden subdir?',\n",
       "  'Should I use weakSelf in nested blocks?',\n",
       "  'CSS background color not behaving as expected',\n",
       "  'Android app Listview cannot be scrolled to bottom to search a specific element using appium in java',\n",
       "  'Rails: Why \"has_many ..., :through => ...\" association results in \"NameError: uninitialized constant ...\"',\n",
       "  'How to send data between fragments when swiping tabs in ViewPager',\n",
       "  'Wordpress static pages: how to embed content into templates?',\n",
       "  'Troubles with importing classes from Angular 2 modules with Typescript 1.7',\n",
       "  'i am not able to get the images read in java for exporting it as JAR',\n",
       "  'How do I create a resource dll',\n",
       "  'error: linker command failed: ld: duplicate symbol _main',\n",
       "  'sql to find non-printable characters in a string',\n",
       "  'i want to generate payperiod for each month',\n",
       "  'Interactively enter headline under which to place an entry using capture',\n",
       "  'Querying the DNS service records to find the hostname and TCP/IP',\n",
       "  'Can I use setContentView outside the oncreate method?',\n",
       "  'Consolitate data from multible sheets ,re-arrange the data as per the column name',\n",
       "  \"Why is my 'transparent' overlay view opaque?\",\n",
       "  'how can I run play framework with port=9001 under windows cmd not under play console?',\n",
       "  'Rails 3 - Ajax POSTS from a link click',\n",
       "  'Add html content to mysql die error?',\n",
       "  'Best way to run a Plack PSGI Perl application outside of Apache using FastCGI?',\n",
       "  'How to Call NSUserDefault Value To Another View Controller?',\n",
       "  'Does Qt have a way to get the font that the particular css resolves to?',\n",
       "  'How to update Parent component about the data that child component modified(angular 1.5)',\n",
       "  '2d array, pushing to one array shows up in all arrays?',\n",
       "  'Get NSData from assets-library URL',\n",
       "  'How to specify image size in HTML Doxygen?',\n",
       "  'NSFetchedResultsControllerDelegate in a second view controller (not firing?)',\n",
       "  'Draggable divs getting mixed with another divs',\n",
       "  'creating MLP in python showing error',\n",
       "  'Create SharePoint 2010 ribbon button programmatically w/o feature XML',\n",
       "  'how can I use pyglet write a music player can play a music list',\n",
       "  'How can I efficiently debug loops consisting of a large number of iterations on Eclipse?',\n",
       "  'Passing a model object to a RedirectToAction without polluting the URL?',\n",
       "  \"Automatically receiving mobile phone's SMS to hyperterminal\",\n",
       "  'Output \"System.out.println\" into Emacs Cider\\'s REPL (or other buffer)',\n",
       "  'Scoring regression model using PMML with Augustus in Python',\n",
       "  'Safari View Controller - send data back to app',\n",
       "  'Signalling a bash script running in the background in an infinite loop',\n",
       "  'How do I add in-app purchase to a published app in play store and test it before going into production?',\n",
       "  'FileNotFoundException in Windows 10 Universal App (UAP)',\n",
       "  'How to map one column with other columns in an avro file?',\n",
       "  'Retrieving all the cell data from a jQuery datatable on post',\n",
       "  'In Play! Frame work Can I Make classes In models package Singleton?',\n",
       "  'Binding events with Hammer.js and .on()',\n",
       "  'yii making user auto logged in on signup end (auto authentication after signup)',\n",
       "  'Unreal Engine 4: save rendered frame to memory',\n",
       "  'Building HelloWorld C++ Program in Linux with ncurses',\n",
       "  'Generating Checkbox Lists with MVC3 using a complex viewmodel and a cross table with Linq to SQL',\n",
       "  'CordovaWebView: TIMEOUT ERROR',\n",
       "  'Whats wrong in my xsd schema ? It gives type element is not declared on include of another xsd file',\n",
       "  'Angular and papaParse Integration',\n",
       "  'Setup a graylog2 server with elasticsearch in a vagrant machine',\n",
       "  '(Solved-See my comment)How to make a password form on tumblr?',\n",
       "  'Javascript: Call a method inside another method',\n",
       "  'aws api gateway client-side ssl certificate verification with nginx',\n",
       "  'Kendo UI drop downs posting arrays',\n",
       "  'ServiceStack Identity on field other than PK - Insert fails',\n",
       "  'Redirection when rendering controller in twig SYMFONY 302',\n",
       "  'CSS Sprites Bottom repeating',\n",
       "  'How can I sort a table of Laravel Eloquent objects by a custom attribute?',\n",
       "  'Comparing elements in a generic list',\n",
       "  'Set minDate for Bootstrap DateTimePicker from another',\n",
       "  'What is the difference between :g and :%s commands in vim',\n",
       "  'Java: creating self extracting jar that can extract parts of itself out of the archive?',\n",
       "  'set html text color and size using javascript',\n",
       "  'Queue using Arrays',\n",
       "  'foreach loop when using Xml.XmlElement in remote scriptblock',\n",
       "  'How to print list of categories and click on each category one by one in selenium/appium?',\n",
       "  'Every now and then, ABCpdf runs out of memory',\n",
       "  'In Spring OAuth2, why is my resource still unprotected even though I have marked it in my resource server?',\n",
       "  'how to restart node application automatically on aws elastic-beanstalk',\n",
       "  'Unresolved external symbol LNK2019',\n",
       "  'Celltemplate in angular-ui-grid is not working properly',\n",
       "  'Escaping backslashes in method call stringByReplacingOccurrencesOfString Does not work in Objective C',\n",
       "  'APEX Data Loading - Add a column programatically',\n",
       "  'MySQL / MariaDB shuts down after exactly 1 minute 42 seconds',\n",
       "  'Mouse movement / mouseover and JavaScript evaluation in watir',\n",
       "  'Removing backslashes from a string in Python',\n",
       "  'Array manipulation (accessing specific bytes)',\n",
       "  'Rails: Does Application.css load all css.scss files?',\n",
       "  'LongListSelector cannot change ItemsSource',\n",
       "  'C# DateTime not recognising timezone change (BST)',\n",
       "  'deinit in child view controllers',\n",
       "  'How to send back to custom class which object of that class was clicked',\n",
       "  'delete from array returning self',\n",
       "  'MS Access Properties',\n",
       "  'UIWebView always add a parameter in url issue',\n",
       "  'comparing two spanned strings in edittext in android',\n",
       "  'Add prefix to control id and still have it bind MVC Razor',\n",
       "  'EXC_BAD_ACCESS when setting Integer to anything else than zero',\n",
       "  ':hover CSS is not working?',\n",
       "  'Blowfish last block incomplete in decryption',\n",
       "  \"Reading uploaded image: undefined method `file' for nil:NilClass\",\n",
       "  'How can I run IntelliJ IDEA on a remote desktop',\n",
       "  'How to get the JSONObject server response in Volley',\n",
       "  'Guide in organizing large Django projects',\n",
       "  'how to populate a dropdownlist based on another dropdownlist selected value in mvc 4?',\n",
       "  'Azure ServiceBus Token Expired',\n",
       "  'iBatis to MyBatis migration efforts?',\n",
       "  'Where should I look for the document generated using htp package',\n",
       "  \"Tortoise SVN Error after update: 'The specified path has an unexpected status'\",\n",
       "  'Extract html data after logging into website from android app',\n",
       "  'Add key value to array without triggering an array',\n",
       "  'How to write this math equation into c++',\n",
       "  'Undefined index php mysql error',\n",
       "  'when text changed inputbox automatically updates next 6 text boxes',\n",
       "  'Unable to get email of facebook user',\n",
       "  'iphone: Facebook logout feature is not work in my app',\n",
       "  'how to force my app NOT to use the 3g data proxy setting',\n",
       "  'Unit Testing - What do you do when your code is pretty much just a calculation (GetHashCode for example)?',\n",
       "  \"Status of CheckBox can't be detected\",\n",
       "  'Sort a list with multiple conditions Ruby on Rails',\n",
       "  'How to sharp the text in css3?',\n",
       "  'How to change the class of an object dynamically in C#?',\n",
       "  'Creating an Array with a Default Value,But the default value is changed',\n",
       "  'How to call a delegate\\'s function without getting the \"instance method not found\" warning in ios?',\n",
       "  'Android, background drawable appear black in genymotion but looks fine in intellij',\n",
       "  'Table has no columns using google charts',\n",
       "  'Dropdown list where options populate a second list js/php?',\n",
       "  'difference between <% and <%= ruby',\n",
       "  'How to remove the functionality of changelist filter appearing in django admin?',\n",
       "  'how to unpack stxetx data in python',\n",
       "  'Ansible: playbook calling Role in a directory that is in the roles directory',\n",
       "  'Setting up HTTPS redirects on Heroku Laravel Instance',\n",
       "  \"Input helper valueBinding is deprecated - what's the alternative?\",\n",
       "  'Using MySQL.connector with Twisted Python to execute multiple queries',\n",
       "  'MySQL - 1 large table with 100 columns OR split into 5 tables and JOIN',\n",
       "  \"neo4j load csv when field name has a '.' in it\",\n",
       "  'Mocha + React: navigator is not defined',\n",
       "  'semantic ui grid - display full width of column, after \"computer only\" columns is hidden',\n",
       "  'populating select menu options using javascript',\n",
       "  'Serializing MongoDB find() return into non-anonymous JSON array, using PyMongo',\n",
       "  'Geom tile white space issue when the x variable is spread unevenly accross facet grids',\n",
       "  'Moving files depending on the profile in a WAR',\n",
       "  \"Check if it's the last record in sqldatareader\",\n",
       "  'Assigning to columns in NumPy?',\n",
       "  'Android Facebook ApiException: Invalid Application',\n",
       "  'Django: customizing the message after a successful form save',\n",
       "  'Custom TextBox with built-in Validator: server side validation not firing',\n",
       "  'How to embed mjpeg file on a webpage',\n",
       "  'php delete on jQuery doesnt work',\n",
       "  \"AWK doesn't work in Bash Script\",\n",
       "  'Launch specific app when external accessory attached',\n",
       "  'Three Inputs in a Row - Bootstrap 3',\n",
       "  'How compiler like GCC implement acquire/release semantics for std::mutex',\n",
       "  'Framework search for upcoming project',\n",
       "  'Implementing a Web Service Server in Windows CE 2013',\n",
       "  'Why do I keep getting \"The digital signature of the object did not verify\" for Windows JavaEE installer',\n",
       "  'hide paging numbers in gridview?',\n",
       "  'How to remove sublayers from a view afer a touch',\n",
       "  'CUDA: Can i find out if i have global memory coalescence?',\n",
       "  'How to read a google chrome crash dump with windbg',\n",
       "  'jQuery targeting nested list',\n",
       "  'pass the column value when checkbox is clicked in wijmogrid column',\n",
       "  \"How to normalize your database in hibernate? (Repeating values don't get saved again and again)\",\n",
       "  'how to stop validation on a particular textbox after hiding this textbox using angularjs',\n",
       "  'opencv imshow with waitKey too slow on Mac OS X 10.10.2 (using c++)',\n",
       "  'Setting an Input Box Background',\n",
       "  'IntelliJ IDEA: \"Element ignore is not allowed here\"',\n",
       "  'Slider does not work in the jQuery Tabs',\n",
       "  'Carrierwave getting image width and height and storing it in an hstore field',\n",
       "  'OpenProcess() succeeds, but EnumProcessModules() fails',\n",
       "  'Django + Forms: Dynamic choices for ChoiceField',\n",
       "  'using Url.Content to display the file content with .net mvc',\n",
       "  'PDO cannot able to fetch image from database',\n",
       "  'error in adding overlay in current location',\n",
       "  'Internal section link fails in beamer output of pandoc markdown',\n",
       "  'Adding ROW_NUMBER() to query loses DISTINCT, defeats the purpose of paged results attempt',\n",
       "  'android studio 135.1339820 launches wrong java version on openSuse 12.3',\n",
       "  'My Facebook object is empty',\n",
       "  'Java code reads UTF-8 text incorrectly',\n",
       "  'PHP session.cookie_secure does not actually set the cookie to secure',\n",
       "  'Using webapp2, how can I get the value of a form\\'s \"name\" attribute during a POST request?',\n",
       "  'Finding Uppercase Character then Adding Space',\n",
       "  'Table data pass into stored procedure as param and insert into another table in mysql',\n",
       "  'Inject entry point class in GWT with GIN',\n",
       "  'How to group by week of the year dates or day dates that start on Sundays in oracle 10?',\n",
       "  'What are the options Some and None SML?',\n",
       "  'Reversing a .mp3 programmatically',\n",
       "  'Convert Associative Array in PHP and insert it to database',\n",
       "  'Why is the \"map\" version of ThreeSum so slow?',\n",
       "  'ant keeps recompiling',\n",
       "  'HttpContext.Current.User.Identity.Name returns blank',\n",
       "  'UIWebView Javascript Window to Window Communication',\n",
       "  'Fluent NHibernate Exception: An association from the table X refers to an unmapped class: System.String',\n",
       "  'Are .NET memcache libraries production ready?',\n",
       "  \"DB2 Can't connect to db with new user\",\n",
       "  'Django flatpages backup?',\n",
       "  'Trouble with Creating One-Time Calendar Event from Google Sheet row',\n",
       "  'The colored image turned to have no color and just a grey vector in drawable?',\n",
       "  'how to show pattern in asp-Repeater item template?',\n",
       "  'Fastest scripting language for Java?',\n",
       "  'Tried to reverse engineer my app, but got some weird-looking file tree',\n",
       "  'Startup for bundles placed in the deploy folder of Karaf',\n",
       "  'd3js force layout with hide/unhide on node click misplaces nodes after expanding',\n",
       "  'Unique column definition in SQL',\n",
       "  'Hash of a cell text in Google Spreadsheet',\n",
       "  'How to pin/unpin Microsoft Edge developer tools in Windows 10',\n",
       "  'Which editor can align tables in reStructuredText for Sphinx?',\n",
       "  'How to walk through a directory in c and print all files name and permissions',\n",
       "  'iOS KVC DRY mutation',\n",
       "  \"IBM MobileFirst Platform iFix doesn't update the version displayed in Operations Console\",\n",
       "  'relative layout aligning images about right bottom corner',\n",
       "  'How to retrieve a PDF(document) from the Tridion File System and create a multimedia component out of it',\n",
       "  'HTML sends x y POST data with no inputs - how is this possible?',\n",
       "  'How can I view Azure logfiles when running locally?',\n",
       "  'is there a web service client code generator on iOS?',\n",
       "  'Get smallest type to include data range',\n",
       "  'Get dates as check if it is ending',\n",
       "  'Cordova brightness still returns -1',\n",
       "  'How to detect 3 keyboard buttons in Swing?',\n",
       "  'Python calculations in two groups',\n",
       "  'create array from mysql query php',\n",
       "  'TDD vs Defensive Programming',\n",
       "  'Display logo or image in the Ribbon using VSTO',\n",
       "  'How can I get a meaning of a jsp variable in java code on the same page?',\n",
       "  'Conversion of cloud data into 2d image using OpenCV',\n",
       "  '[python-suds]Bug? One additional element is created when using Factory',\n",
       "  'Using clang to analyze C++ code',\n",
       "  'Login with email and password control not working',\n",
       "  'ansible: use different logging level for terminal and log file',\n",
       "  'Draggable window with pyqt4',\n",
       "  'dynamically adding edittext depending on the elements of json array',\n",
       "  'How to convert ftp.getModificationTime(file) to readable format',\n",
       "  'PHP Login Form using DashDB',\n",
       "  'Building a properties file to the top level of a WAR file, Spring-MVC/Maven',\n",
       "  'Enabling breakpoints in goclipse',\n",
       "  'error while including external JARs in ant script',\n",
       "  'Comparison of web widgets in flash and javascript',\n",
       "  'Why must I free this data? Am I the owner?',\n",
       "  'Optimizing a very huge mysql table (query or mysql)',\n",
       "  'tlbexp.exe outputs different tlb information on 2012 versus 2010',\n",
       "  'How to create a Facebook Like with a post/comment box',\n",
       "  'Codeigniter PDO integration',\n",
       "  'pass string array as parameter to asp.net mvc webapi method',\n",
       "  'Removing space in dataframe python',\n",
       "  'How to set application identity of an application pool using web administration module in powershell?',\n",
       "  'how to handle play database connection exceptions',\n",
       "  'querydsl 3.3.0 - using collection.any() with elementcollections in a query with N boolean arguments generates N \"exists\" sub-queries',\n",
       "  'Gson: Change the way Map-Keys are being serialized',\n",
       "  'Improving gnuplot 3d plots from data files with pm3d',\n",
       "  'Divide problem',\n",
       "  'Yii2: Using Kartik Depdrop Widget?',\n",
       "  'Can anyone post an example of how to enable SSL in Tsung?',\n",
       "  'MPI_Isend and MPI_Irecv seem to be causing a deadlock',\n",
       "  'Virtual Box port forwarding misery with Ruby Sinatra:4567 / Shotgun:9292',\n",
       "  'Enhancing regex to match more URLs',\n",
       "  'JavaScript classlist selector error',\n",
       "  'My IntelliJ IDEA 11.1.5 lost the ability to debug node.js applications after upgrading to windows 8.1',\n",
       "  'Scientific notation android java',\n",
       "  'How to make a JSON array case insensitive for Twitter Typeahead?',\n",
       "  'Membase can someone explain the idea behind their technology',\n",
       "  'Struts 2 + Dojo + Datetimepicker',\n",
       "  'Cannot retrieve data from find query',\n",
       "  'How long are resources used (file descriptor and memory) for Java temporary files (jar_cache####.tmp)?',\n",
       "  'how to pass a variable in WHERE IN clause of oracle sql?',\n",
       "  'How can I transform the coordinates of a Shapefile?',\n",
       "  'Mapping result of aggregate query to hibernate object',\n",
       "  'Drawing Application how to save drawing in android phone memory',\n",
       "  'Error while using npm install -g generator-jhipster',\n",
       "  'Get abs path from the currently edited file in Eclipse',\n",
       "  'Post form data to foreign aspx form',\n",
       "  'Logging in Azure web jobs',\n",
       "  'MTM with (automated) CodedUITest test-cases developed in VS2013 issues',\n",
       "  'How to print contents of an HTML element in MacGap?',\n",
       "  'ASP.NET Control not available in CodeBehind',\n",
       "  'How can I disable the IIViewDeck functionality momentarily?',\n",
       "  'Why would I create a struct with only a `PhantomData<()>` member?',\n",
       "  'Accessing masterpage properties from child pages in ASP.net VB',\n",
       "  'Bash read inside a loop reading a file',\n",
       "  'Random number between 1 and 20 excluding numbers already picked',\n",
       "  'Wordpress Navigation Label in Browser tab',\n",
       "  'Taking control of the soundCard with JAVA',\n",
       "  'STL containers and large amounts of data',\n",
       "  'Colour in Backorder Products dropdown based on stock in WooCommerce',\n",
       "  'Richfaces - <rich:autocomplete> not showing suggestions',\n",
       "  'How to select and enlarge a Masterpane in Zedgraph',\n",
       "  'react-native android publishing keystore',\n",
       "  'What is a good way to find a specific value in an XML document using C#?',\n",
       "  'Can i make my own Singleton Stateless Bean with EJB 3.0?',\n",
       "  'How does Google App Engine precompile Java?',\n",
       "  'Using dispose() method instead of close() method to a form',\n",
       "  'Spring Oauth2 \"Full authentication is required to access this resource\" with valid access token',\n",
       "  'Why is my code only displaying incorrect even if I have the right answer?',\n",
       "  'Forcing function in ODE',\n",
       "  'Get sum of column on last row, good practice?',\n",
       "  'Simple Karma + Typescript configuration - Reference Error: x is not defined',\n",
       "  'Error building Player because scripts have compile errors in the editor',\n",
       "  'Property Testers do not load despite forcePluginActivation. For popup menu enablement',\n",
       "  'Javascript regex to match last word regardless of specials characters',\n",
       "  'Develop multilangual system',\n",
       "  \"angular-mock testing in Karma+Mocha can't find module\",\n",
       "  'How to append an element inside object using a common way',\n",
       "  'Generate random \"dark\" colours only in Java',\n",
       "  'Access element in list using indexes stored in another list',\n",
       "  'How to correctly use setq in elisp?',\n",
       "  \"iOS - Today Extension 'show more' & 'show less' state incorrect. Collapsed says 'show less' - requiring multipule presses to fix\",\n",
       "  'how to get the position of the cursor in an editable div',\n",
       "  'flickering of image in SWT',\n",
       "  'Completely random identifier of a given length',\n",
       "  'Angular 2 Render Flat List from Hierarchal Data',\n",
       "  'Java RMI threads on client-side are executing sequentially or concurrently when calling the same remote object?',\n",
       "  'Variable-size buffer for receiving UDP packets',\n",
       "  'CreateSqlQuery on entity with formula property',\n",
       "  'Datepicker TIMESTAMP divide by 100',\n",
       "  'how to print out the whole table using anonymous block in pl sql?',\n",
       "  'In Sentora i will need to integrate a clamav Module',\n",
       "  'how do i set a value of a multiple <select> tag from the database',\n",
       "  'show decimal value in C#',\n",
       "  'Javascript: how to affect other element when hovering?',\n",
       "  'Creating new popup window when click button',\n",
       "  'How to Depict Either/Or Inheritance in a UML diagram?',\n",
       "  'Ajax post success data: Can you separate results?',\n",
       "  'Document.getElementById() not available for ChromiumWebBrowser in visual studio',\n",
       "  'target of assignment expands to non-language object',\n",
       "  'How do I configure distributed transactions for NServiceBus',\n",
       "  'How to combine an array of png images like layers using C#?',\n",
       "  \"yii2 gii CRUD Generator error - Class 'Message' does not exist or has syntax error\",\n",
       "  'Get values of checkbox to other page',\n",
       "  'Session on subdomains still not working',\n",
       "  'How can I turn off host name resolutios?',\n",
       "  'syntax error, unexpected end-of-input',\n",
       "  'Erlang: \"extending\" an existing module with new functions',\n",
       "  'tcl string replacement',\n",
       "  'how to access directory in plesk (control panel )',\n",
       "  'Minimizing the sum of a special function over a list',\n",
       "  'VB.Net & Access - Set two foreign keys, that refer to the same table/field',\n",
       "  'Memory Monitoring Tool for Erlang Threads',\n",
       "  'Disable Spring Boot Security @Secured at runtime',\n",
       "  'Join two tables on the same date or closest date (before or after)',\n",
       "  'Power Point viewer asp.net mvc',\n",
       "  'Swift: Get an element from a tuple',\n",
       "  'images rotation to the right',\n",
       "  'Can I access the visual voicemail files on the iphone thru the SDK?',\n",
       "  'Proximity alert for locations saved at server',\n",
       "  'Tableviewcell button',\n",
       "  'Angularjs select does not mark matching model as selected',\n",
       "  'How can i use id to do action on an object of an android using Robotium tool?',\n",
       "  'How can i pass a value to constructors of collection of instances at runtime with simple injector?',\n",
       "  'Large binary shifts in 8086 assembly?',\n",
       "  'Directshow, format type change filter',\n",
       "  'How to open model window on option selection?',\n",
       "  'Update value in sqlite iphone sdk',\n",
       "  'Installing ADT plugin in Eclipse for Android development',\n",
       "  'Automating a ContextMenu with Watin',\n",
       "  'how to evaluate the performance of any cryptographic algorithm (say elliptic curve)?',\n",
       "  'Nth-child Selector with Prototype',\n",
       "  'Difference in performance of compiled accelerate code ran from ghci and shell',\n",
       "  'Database design for email messaging system',\n",
       "  'Java SE Development Kit 8u20 Install Options',\n",
       "  'Reading a file in chunks',\n",
       "  'Twitter style Web Application based on LAMP, Symfony2, Backbone : possible?',\n",
       "  'Regexp for C preprocessor command',\n",
       "  'Cmposition, I dont quite get this?',\n",
       "  'CakePHP form submits the \"array\"',\n",
       "  'Store feed forward network in mongodb',\n",
       "  'bash read strings and output as one key and multiple values',\n",
       "  'http client in python fails to recive',\n",
       "  'Dynamic languages - which one should I choose?',\n",
       "  'How to start an IntentService from a WakefulBroadcastReceiver',\n",
       "  'C++: Converting wstring to unsigned char',\n",
       "  'How to make echo interpret backslash escapes and not print a trailing newline?',\n",
       "  'AngularJS.. http.get working, when splitting into its own service module its no longer working',\n",
       "  'How do I determine the number of elements in an array reference?',\n",
       "  '\"TypeError: \\'NoneType\\' object is not iterable\" on what should be a list',\n",
       "  'Replace random image on website',\n",
       "  'Rotation matrix between two camera system',\n",
       "  'Animated border which wraps around',\n",
       "  'cron job not picking up oracle query result',\n",
       "  'Formview and MS-Ajax UpdatePanel',\n",
       "  'How to update data with TreeStore or TreeEditor component?',\n",
       "  'Get kwargs passed to url_for in Flask view',\n",
       "  'how to reload the template when working with enlive without restar',\n",
       "  'Thread-safe get (accessor method)',\n",
       "  'How can I tell if \"inline\" worked?',\n",
       "  'calling some logic before user is logged out using spring security?',\n",
       "  'Java pattern to find two groups of two letters in `ABC`',\n",
       "  'MYSQL distincs entry of two columns even when switched',\n",
       "  'How Antlr creates tokens',\n",
       "  'Play Framework 2.4 - Java - Http header and cached response',\n",
       "  'List of Strings in a Grails domain class',\n",
       "  'Insert into MongoDB via Node.js',\n",
       "  'How to stop or pause Pandora and Spotify',\n",
       "  'Oracle Function: Replicate wm_concat',\n",
       "  'Return user to previous page after login (Rails)',\n",
       "  'Custom Layout Manager using predefined and developer-defined child view(s)',\n",
       "  'In Ruby, how do I specify a file in another directory as an input?',\n",
       "  'Unable to read View Bag value from controller to view',\n",
       "  'Parameters on time stamps in oracle sql developer',\n",
       "  'measuring the time to load a page - Python',\n",
       "  'Set height of child to height of parent',\n",
       "  'How can I find the element that caused another element to fire the focusout event?',\n",
       "  'How to get the latest created table in MySQL?',\n",
       "  'Better way to reference $scope in AngularJS',\n",
       "  'Sharing data between Elastic Beanstalk web and worker tiers',\n",
       "  'iOS certificate pinning with Swift and NSURLSession',\n",
       "  'Sharing UDP Data across apps (background/foreground or Split screen multitasking) in iOS',\n",
       "  'iPhone: Facebook logout feature does not working',\n",
       "  'AutoHotKey. Hotstrings and Auto-replace not working in Visual Studio 2008',\n",
       "  'Issue setting up Android SDK - Failed to Start Emulator',\n",
       "  'Why is the dismissable alert not being dismissed?',\n",
       "  'Error while executing change data capture sql query',\n",
       "  'multiple queries - Route.get() requires callback functions but got a [object Undefined]',\n",
       "  'How to attach custom element to shadow DOM in html web components in a secure way?',\n",
       "  \"flash javascript don't work (Second try)\",\n",
       "  'How do EGit versions map to Git versions',\n",
       "  'How the ftp uploads works in PHP?',\n",
       "  'Sql XML to Delphi',\n",
       "  'Lookup table with the query with arbitrary length without using a for loop in R',\n",
       "  'C# XML deserialization XmlAttribute',\n",
       "  'CSS, JQuery: Animated transform from 3 lines menu to cross',\n",
       "  'Can m2e install an external jar file? Or do I need to install the maven command line tool?',\n",
       "  'Does gSOAP RESTful implementation require the definition of a WSDL',\n",
       "  'Automatically create an appointment in Outlook using message content',\n",
       "  'JSoup error: java.lang.IllegalArgumentException',\n",
       "  'Add Button to CMS_Page_Edit via Observer',\n",
       "  'How to do an XOR of the binary forms of all integer items in a list',\n",
       "  'How to add regularization in Scipy Linear Programming (Non-negative Least-Squares)',\n",
       "  'Highlight backgroung colors of some words in HTML Document in java',\n",
       "  'Is there a way to retrieve process stats using Perl or Python?',\n",
       "  'Excel NamedRange.Find Method with Regex pattern match in C#',\n",
       "  'cmake error when configuring',\n",
       "  'How to set first column to a constant value of an empty np.zeros numPy matrix?',\n",
       "  'Eclipse Plugin - get Launch Configurations Tree List in a Dialog.',\n",
       "  'What are the RESTful best practices on defining a query parameter with an or condition?',\n",
       "  'Extracting text from the input field - using Webdriver',\n",
       "  'One <hr> tag is working but not the other in Firefox. Why is that?',\n",
       "  'ajax request xml from php',\n",
       "  'Embedded Java server using Grizzly: How do you enable http2',\n",
       "  'Finding Minimum Completion Time of Scheduled Tasks with Topological Sort',\n",
       "  'How to set jQuery draggable min/max-left and min/max-right',\n",
       "  'semantic-ui modal size keeps extending to the height of a page',\n",
       "  'Is there any direct git command to push changes to another branch',\n",
       "  'How and is it worth to integrate Java Webapp + drools + Guvnor?',\n",
       "  'How to debug Error Messsage in Odoo',\n",
       "  'calculate differences between two numbers',\n",
       "  'Data constructor in template haskell',\n",
       "  'Tying composer.json to a specific Laravel 5 SHA',\n",
       "  'Django 1.7.1 requires a Default value for field - but no entry is in database. Why?',\n",
       "  'addEntriesFromDictionary: a true copy method?',\n",
       "  'Spring Boot OAuth2 with encrypted JWT access token',\n",
       "  'Wrap text if it is longer than max_characters',\n",
       "  'iptables: Duplicating/Forwarding ports',\n",
       "  'Multiple custom fields stored as meta_keys, how to connect with the post?',\n",
       "  'Android GridView crashes or is very slow on some devices (Samsung Galaxy S4, S3)',\n",
       "  'HTML/CSS: Input element weird indent ie7',\n",
       "  'What exactly does Double mean in java?',\n",
       "  'Most effective ways to extract Android Cursor (sqlite) into an array to be used in AlertDialog.Builder?',\n",
       "  'jenkins can not find android SDK',\n",
       "  'Can I open a new window and change the DOM of the calling window in JavaScript?',\n",
       "  'dynamically Change Itemized overlay draw circle using seek bar progress',\n",
       "  'How do I fix django.db.utils.IntegrityError: duplicate key value violates unique constraint?',\n",
       "  'Inno Setup not creating registry entry in Software/Microsoft/Windows/CurrentVersion/Uninstall',\n",
       "  'build from hadoop source code in centos',\n",
       "  'C# LinqToSql SubmitChanges() does not update, even though PK is set',\n",
       "  'How to read utf16 text file to string in golang?',\n",
       "  'Objective C ePub framework',\n",
       "  'Reducer output to different files based on keys',\n",
       "  \"Is it possible for a Chrome Extension to get a user's full browsing history?\",\n",
       "  'Variable Number of Nested For Loops',\n",
       "  'Ordered http request parameters',\n",
       "  'Testing the Oracle to_date function',\n",
       "  'Getting the error of POST method from another PHP file',\n",
       "  'Multiple selection of worksheets into one workbook copy paste of content into one main sheet',\n",
       "  'Why do I keep getting \"developer inactive\" errors when calling the Beats Music API?',\n",
       "  \"My select command doesn't work\",\n",
       "  'node js read files line by line',\n",
       "  'PHPStorm/Webstorm increase memory to more than 512MB',\n",
       "  'Want to open google.com at specific location and make it specific window size',\n",
       "  'Database not updating new row',\n",
       "  'Spring suite tools start error - spring boot',\n",
       "  'Slider in codenameone',\n",
       "  'Issue with $(this) and toggle() multiple classes',\n",
       "  'How to load file from dir using Racket?',\n",
       "  'Removing quotation mark using javascript does not remove single quotation marks',\n",
       "  'Firebase Android ChildEventListener Triggered onChildRemoved() before onChildAdded() When new data added',\n",
       "  'Python. Error using animation.FuncAnimation',\n",
       "  'How to make inline comments in Org-mode?',\n",
       "  'Find years with distinct digits - CCC 2013',\n",
       "  'Identify customer visits occurring after a given time period in mysql',\n",
       "  'Finding the distinct count from a cassandra column using Tableau',\n",
       "  'Prism : Change the active view',\n",
       "  'Get Color from int',\n",
       "  'Dynamic subversion repos via subdomains (in Apache)',\n",
       "  'How to multithread my for loop in Python',\n",
       "  'How to get recycler view list item count using Espresso',\n",
       "  'How to PIVOT and calculating column average',\n",
       "  'Fastest way to separate the digits of an int into an array in .NET?',\n",
       "  'Escaping special characters in SphinxSE',\n",
       "  'Importing sqlite file into r',\n",
       "  'Sort order of related products not working in Magento 1.6',\n",
       "  \"Display 404 not found template for 'slugs' when publication returns empty cursor - Meteor - iron-router\",\n",
       "  'Is there a way to tell if an object has implemented ToString explicitly in c#',\n",
       "  'VFS: file-max limit 1231582 reached',\n",
       "  'Play 2.2 EssentialAction With Futures',\n",
       "  'AppBarLayout / CollapsingToolbarLayout expands indefinitely',\n",
       "  'how to deselect all Radio Button in Radio ButtonGroup on button click in flash as3?',\n",
       "  'numpy array creating with a sequence',\n",
       "  'Sed: Matching words with any permutation of two characters',\n",
       "  'Make Child element appear outside of parent',\n",
       "  \"MobilePin createuserwizard doesn't work?\",\n",
       "  'Fit Image in canvas using WPF',\n",
       "  'Adding a fontawesome icon with border into form input',\n",
       "  'finding pixel location of Listview item seems to return wrong value',\n",
       "  'sails 0.9.8 not work, when created controller and lift it',\n",
       "  'Larave File not found at path but it does exist',\n",
       "  'RequiredFieldValidator causes validation on Server even if validator is disabled(CausesValidation=\"false\")',\n",
       "  'Retrieving HTML content from a page requiring authentication using PHP',\n",
       "  'How to generate linked-axis in matplotlib',\n",
       "  'Print % sign with string formatting',\n",
       "  'How to calculate the dimensions of the monitor in PyQt4/Windows/Linux?',\n",
       "  'VBA Outlook 2010 retrieving information from Active Directory',\n",
       "  'Modifying bootstrap thumbnails',\n",
       "  \"ASP.Net: What's keeping old AppDomains alive?\",\n",
       "  'A library uses the same package as this project after importing Facebook SDK',\n",
       "  'Unable to run compiled .classes from the command line',\n",
       "  'Is it possible to partially decode and update JSON? (go)',\n",
       "  'How to use Apache-Commons DBCP with EclipseLink JPA and Tomcat 7.x',\n",
       "  'How to do batch geocoding using google-maps-services-java',\n",
       "  'Inserting an img into a text field (html, css)',\n",
       "  'NoClassDefFoundError during Tomcat graceful shutdown',\n",
       "  'Indesign (IDML file) Automation using HTML5 and Javascript',\n",
       "  'Writing to the ObjectOutputStream and getting rubbish back',\n",
       "  'How do I stop md-cards from stretching images to full vertical height?',\n",
       "  'SQL, missing end, but why?',\n",
       "  'SED - Search two pattern in a line and insert few word at the end of the line if pattern match is found',\n",
       "  'How to configure & run multiple websites with respective databases with single Laravel code instance',\n",
       "  'three.js CanvasRenderer - setting initial color for object together with transparency textures',\n",
       "  'IHTMLDocument2 - click button inside iframe',\n",
       "  \"Resource 1 works, 2 doesn't\",\n",
       "  'how to show an image in an image field by a button click event in c# asp.net',\n",
       "  'How to use this for killing array of threads?',\n",
       "  'MVC scaffolding does not support Entity Framework 6 or later',\n",
       "  'Parse error using Remotipart',\n",
       "  'JAVA JAX-WS Deployment (JAVA Eclipse EE IDE)',\n",
       "  'kaminari and order_by',\n",
       "  'multisampling and fragment shader',\n",
       "  'C program- change char order in sentence',\n",
       "  'How to reload an IFrame every x seconds?',\n",
       "  'EF6 table per hierarchy, with unique index on derived property',\n",
       "  'Shell Script to add extension on file and directory',\n",
       "  'Absolute beginners guide to working with audio in C/C++?',\n",
       "  'Extract part of string',\n",
       "  'stopping toast android in other actvity',\n",
       "  'Client-side SSL not working with AWS API Gateway',\n",
       "  'Top Left Menu Bar Is Frozen when Main Window Shows Up',\n",
       "  'Category Axis Label Alignment for Multi Series bar chart in JAsper',\n",
       "  'Invalid Label - jQuery Ajax/Json request',\n",
       "  'Optimizing Haskell Recursive Lists',\n",
       "  'Symfony3: Service not able to get arguments',\n",
       "  'Reverse Geocoding not displaying info window on markers when clicked',\n",
       "  'How to restrict background click in Ionic confirmation popup',\n",
       "  'how to use CSPARQL-ReadyToGoPack-0.9 in a SBT project',\n",
       "  'How to sort UTF-8 lines in Vim?',\n",
       "  'How to handle NotFoundException elegantly in Neo4j 2.0?',\n",
       "  'Download multiple files simultaneously with PHP - Forking, Sockets',\n",
       "  'Submit form on one server, process it and then post results to another domain',\n",
       "  'Flyway Mysql multiline comment directive not parsed',\n",
       "  'Non-Blocking File Reads',\n",
       "  'ORACLE sql dynamic variables in stored procedure',\n",
       "  'nested ngFor with two data classes in angular2',\n",
       "  'Crossplatform webview in Qt5.6',\n",
       "  'Set the default encoding to UTF-8 for all JSPs without using @page directives',\n",
       "  'XSLT creating a table with varying amount of columns',\n",
       "  'how to send email with powershell',\n",
       "  'Asynchronous method using .Result',\n",
       "  'Is JENKINS Extensible Choice Parameter compatible with linux?',\n",
       "  'Starting Speech Recognition with CreateProcess() in C++',\n",
       "  'How do I animate adding subviews?',\n",
       "  'How can I change the default font for a Jekyll website',\n",
       "  'Impossible to compile Fortran code with include statement',\n",
       "  'Lazy loading images in Vue/Laravel',\n",
       "  'Web API read header value in controller constructor',\n",
       "  'Android wear WearableListView ImageView selector',\n",
       "  'Function pack() returns 0',\n",
       "  'Is it possible to have Firebase authentication via Facebook in a Phonegap App?',\n",
       "  'PHP Export MySQL to CSV - Results showing HTML',\n",
       "  'How to detect language preference in Laravel 5',\n",
       "  'VB WebBrowser click button',\n",
       "  'Reports using java collections',\n",
       "  'How to write all files Contain in the subfolders and in the folders in to a .txt file',\n",
       "  'Checking negative values from Google Forms',\n",
       "  'Libgdx reading json array values',\n",
       "  'Custom Buddypress Notification on Post Save',\n",
       "  'UITableView with UITextField - keep the data even after user scrolls',\n",
       "  'Visual Studio 2015 Update 1 automatically checks in files',\n",
       "  'Mobilefirst Failed synchronizing application from the administration service',\n",
       "  'Cannot execute for loop in vue.js',\n",
       "  'how to prevent duplicate item',\n",
       "  'Java Apache CLI OptionBuilder not working as Builder pattern',\n",
       "  \"What's a proper way to turn off genymotion emulator?\",\n",
       "  'Jade select field populating data',\n",
       "  \"Why is ' 2' > '10'?\",\n",
       "  'Mysql dump comments directives and simple comments',\n",
       "  'Cropping library not working on Nexus S',\n",
       "  'Create a segue and attach it between two view controllers through Swift?',\n",
       "  'Function to search recursively for patterns in vim',\n",
       "  'Integrating wordpress and laravel user management',\n",
       "  'Behaviour after takePicture() different on different devices/Android versions',\n",
       "  'Exporting Plone content: how to get the tarball created by quintagroup.transmogrifier.writer',\n",
       "  'Cassandra to Hive using Spark',\n",
       "  'Ruby on Rails :before_filter => :only_when_user_is_logged_in',\n",
       "  'How can I integrate Jacoco reports with SonarQube without using maven?',\n",
       "  'Can I use NSPredicate as key in a NSDictionary',\n",
       "  'Proxy Authentication Failed error',\n",
       "  'Could someone explain how to use the UpdateManager in TideSDK 1.3.1 Beta?',\n",
       "  'Properties - how to avoid code repetition',\n",
       "  'Pause/resume video recording using AVCaptureMovieFileOutput',\n",
       "  'Swift enum recursive associated value',\n",
       "  'How to grep particular string occurring multiple times',\n",
       "  'Hover map area sprite with jquery',\n",
       "  'Spark `LiveListenerBus` Exception is freaking me out',\n",
       "  'how to use pyplot.arrow or patches.Arrow in matplotlib?',\n",
       "  'Apache on Windows and Fiddler',\n",
       "  'how to pass the variable from api gateway to the url of another service running on EC2',\n",
       "  'Open link when doubleclicking on table row with jQuery',\n",
       "  'Wget span host only for images/stylesheets/javascript but not links',\n",
       "  'I am trying to show data using api . but data is not showing in custom listView . list is empty',\n",
       "  \"Graphing sbt's incremental compilation logic\",\n",
       "  'how to get functionality of Long Press gesture in ios ver below 3.2',\n",
       "  'Change priority headings for a task with the api',\n",
       "  'Get values on a row based on two or more rows in Excel',\n",
       "  'Is using Silverlight a hindrance for Startups?',\n",
       "  'spotify session callback get_audio_buffer_stats',\n",
       "  'talend - specify jndi as datasource',\n",
       "  'Long data load time in Matlab',\n",
       "  'how can i change column width in base to content with vb.net and bootstrap?',\n",
       "  'Alternative to Microsoft.Practices.EnterpriseLibrary.Data',\n",
       "  'How to facet.pivot with spring-data-solr',\n",
       "  'Check empty output from fish function',\n",
       "  'pysolr update document with error',\n",
       "  'How to retrieve same column twice with different values of other column in same table',\n",
       "  'Updated: NodeJS - connect-keycloak middleware empty response error',\n",
       "  'Accordion open when page loads',\n",
       "  \"Activity doesn't refresh after associated Broadcast Receiver's onReceive gets called.\",\n",
       "  'How do you detect DOCTYPE (Transitional or Strict) server-side in ASP.NET?',\n",
       "  'Firefox 9.0.1 Broke Internal Wiki Layout',\n",
       "  'onchange function in dropDownList yii2',\n",
       "  'play mp3 without default player',\n",
       "  'Convert SVG Data to SVG File that can be uploaded',\n",
       "  'Folder Picker for MS Word',\n",
       "  \"Can't hide or close form after switching to another form\",\n",
       "  'How to ShellCode in linux with x64 processor.',\n",
       "  'How to set a specific timezone for windows CE By C#',\n",
       "  'Vagrant enters aborted state during apt-get update',\n",
       "  \"attempting to make enter button 'clickable'\",\n",
       "  'ImageMagick Convert not generating correct color',\n",
       "  'Mybatis select with nested objects',\n",
       "  \"My css height auto doesn't work\",\n",
       "  'D3 AngularJs Force Directed Graph',\n",
       "  'I want to add 30 days to mysql date row',\n",
       "  'How I can use FlexyPool with HikariCPFactory?',\n",
       "  'Wix installer: Verify that you have sufficient privileges to start system services',\n",
       "  'r, ts - error in stl, series has less than two periods (erroneous?)',\n",
       "  'typo3 - Adding content to the footer',\n",
       "  'Knockout re render template with new data model on change event of dropdown menu',\n",
       "  '@ManyToMany relation not save',\n",
       "  'Downsampling of fMRI image with FSL',\n",
       "  'How to use Android AutoCompleteTextView on Xamarin.Forms',\n",
       "  'Why fstream::tellg() return value is enlarged by the number of newlines in the input text file, when file is formated for Windows (\\\\r\\\\n)?',\n",
       "  'Determine If Two Points Are Near',\n",
       "  'clicking logo on home page breaks navigation menu on mobile site',\n",
       "  'Use Iframe to embed csv and allow user to search from it',\n",
       "  'Install Chrome extension through windows registry',\n",
       "  'Display message on success does not work',\n",
       "  'jQuery masked input - format date as m/d/yyyy or m/dd/yyyy or mm/dd/yyyy or mm/d/yyyy',\n",
       "  'How to change spring session (redis) cookie name?',\n",
       "  'Any tool to suggest unit reference automatically for Delphi 2010?',\n",
       "  'Why does my method return a null password?',\n",
       "  'SQL Script - manipulate value based on previous non zero value',\n",
       "  'rotate image shows \"Out of memory\" exception',\n",
       "  'count button clicks',\n",
       "  'Joomla Custom Compoment Dev Env : Hot Deployment',\n",
       "  'Nexus 5 not showing on connected devices',\n",
       "  'How work the method TrueForAll? C# LINQ',\n",
       "  'PHP - Simplest Way to Post & Display',\n",
       "  'Update Temp Table with Group By',\n",
       "  'How to use Parse Push with Cordova, Appcelerator, etc',\n",
       "  'AS3 bitmapdata send to server picture is small in upperleft corner',\n",
       "  'How to set the Z order index for adorner in WPF',\n",
       "  'php microseconds',\n",
       "  'Creating a global database connection on an mdi form',\n",
       "  'Uncaught ReferenceError: React is not defined',\n",
       "  'VBA search column for strings and copy row to new worksheet',\n",
       "  'How can I record a test using Espresso without doing a clean install?',\n",
       "  'How can I char array in reverse order?',\n",
       "  'What kind of SCTP support is there on various Windows versions?',\n",
       "  'Saving changes to an EC2 instance without having to register an AMI each time?',\n",
       "  'Auto run Jetty on boot',\n",
       "  'How To Cache jQuery Template In Backbone View via Ajax?',\n",
       "  'Does this C++ static analysis rule make sense as is?',\n",
       "  'Same Ripple drawable(effect) appearing differently on ListView and RecyclerView',\n",
       "  'R ggplot2 assigning colours to a factor',\n",
       "  'Verifying a method was called without using IoC',\n",
       "  \"What is 'seg cs' in bootsect.s\",\n",
       "  'setTimeout keeps firing',\n",
       "  'Formatting the way a string is entered into my database',\n",
       "  'Creating Jenkins Job using python API',\n",
       "  'python create single thread to do one task then quit',\n",
       "  'z order in issue in ConstraintLayout Android',\n",
       "  'Can I derive from a class that can only be created by a \"factory\"?',\n",
       "  'PHP OOP :: passing session key between classes',\n",
       "  'ASP.NET MVC 3, SQL Server',\n",
       "  'Recreating or deleting google services json',\n",
       "  'Probe problem when writing a I2C device driver',\n",
       "  'Jersey produce duplicate log messages',\n",
       "  'Exit / stop Array2D.initBased early',\n",
       "  'how to set array of date to fireDate in local notification at a time',\n",
       "  'alternative to async: false ajax',\n",
       "  'Oracle: how to get percent of total by a query?',\n",
       "  'How to match the recursive pattern `a(?R)b` including another string e.g. \"test{aaabbb}\"? (Regex)',\n",
       "  'How to disable GestureListener?',\n",
       "  'How to specify Code Style settings in a Qt Creator `.pro.shared` file?',\n",
       "  'cal extension template modification with .tmpl',\n",
       "  'Getting started with Groovy/Grails?',\n",
       "  \"Opening a Ruby program's source file in the default editor\",\n",
       "  'How can I pass an array of Guid via Web API?',\n",
       "  'Backbone-Relational find or load?',\n",
       "  \"what's the best way to format an xml string in ruby?\",\n",
       "  'Partial classes in Google Closure?',\n",
       "  'Add a repository in AccountController',\n",
       "  'Wikipedia API Autocomplete with Json',\n",
       "  'Apache Pig: unable to run my own pig.jar and pig-withouthadoop.jar',\n",
       "  'Optimizing list comprehension to find pairs of co-prime numbers',\n",
       "  'kivy access child id',\n",
       "  'Stucture values not staying, values changed to -858993460',\n",
       "  'Set toolbar title',\n",
       "  'How to add a row to a table using swt',\n",
       "  'jQuery ui selectmenu vertical position offset (relatively to buttons in this line)',\n",
       "  'SSIS : Warning: Failed to decrypt an encrypted XML node',\n",
       "  'gps not getting user location',\n",
       "  'Exporting a simple model with texture from Blender to three.js',\n",
       "  'Postman - Required MultipartFile parameter is not present - Spring, Java',\n",
       "  'Prevent akka actor from restarting child actor',\n",
       "  'UITableView not loaded',\n",
       "  'NTFS permission with modify date',\n",
       "  'QTreeView - how to tell if a drag/drop event is a reorder or a move between parents?',\n",
       "  'Prevent XUL notificationBox from closing when button is hit',\n",
       "  'Code not working. Notification that should go off once a day',\n",
       "  'Android Action Bar Button does not show up',\n",
       "  '$.widget is not a function',\n",
       "  'jquery hide not taking parameter',\n",
       "  \"How can i use a one form/table for multiple MVC's?\",\n",
       "  'MSTest: execution order of tests within the same TestClass',\n",
       "  'How to call jQuery function in HTML returned by AJAX',\n",
       "  'OAuth2 security considerations for client_id',\n",
       "  'Google Compute Instance 100% CPU Utilisation',\n",
       "  'Incompatible block pointer type when returning array?',\n",
       "  'Calling a REST api with an encrypted PEM client certificate',\n",
       "  'Select all objects in a list',\n",
       "  'Drag and insert div into another div',\n",
       "  'How to prevent firefox from scrolling to the bottom of the page when a large popup is opened',\n",
       "  'How to handle ((List<string>)Session.Add(\"\")',\n",
       "  'mysql inserting into 2 tables at once that have primary key and foreign key',\n",
       "  \"What's the right way to remove multiple items from a QTableWidget?\",\n",
       "  \"When MSTest fails in TestInitialize, why doesn't TestCleanup get executed?\",\n",
       "  'PHP CodeIgniter application not opening any page except default controller',\n",
       "  'Parsing JSON data without quotes with jQuery',\n",
       "  'Rewrite url in .htaccess',\n",
       "  'I/O error(socket error): [Errno 111] Connection refused',\n",
       "  'Git Error; RPC failed; result=22, HTTP code = 401',\n",
       "  'TFS 2010 - Set the State field to a certain value',\n",
       "  'ActionScript 3.0 How to create ProgressEvent instances in for loop with multiple files loaded from XML',\n",
       "  'how can i extract my query to find average',\n",
       "  'C# Windows Service - Default Arguments on Install',\n",
       "  'Upload large files with node js',\n",
       "  'Changing table headers in cakephp',\n",
       "  'hello world with JMS on Glassfish',\n",
       "  'Countdown timer using DateTime.Parse without defined date',\n",
       "  \"Images in the 'drawable' folder are resized automatically?\",\n",
       "  'Find files with the same size and dellete all duplicates except the one has the shortest name using shell script',\n",
       "  'Writing Rules both in Firebase and in your Code',\n",
       "  'Search for words with specific starts and endings',\n",
       "  'Install Neo4j 3.0+ as a windows service',\n",
       "  'PHP convert 2 digit year to a 4 digit year',\n",
       "  'JSDoc auto-complete documentation in Eclipse is not working for Class.create()',\n",
       "  'Split a infix String to an array of String in java',\n",
       "  'Folder permissions in Azure web sites',\n",
       "  'Only have separators between UITableViewCells',\n",
       "  'Uncaught Syntax error, unrecognized expression: [object Object]',\n",
       "  'Need htaccess redirection',\n",
       "  'How to create this bootstrap carousel of iframes?',\n",
       "  'Doctrine2 - Get entity ID before flush',\n",
       "  'Xquery help sorted parent child relationship',\n",
       "  'How To Load Separate Pages In Android Gridview While Clicking Blocks or Items?',\n",
       "  'kineticjs rect fillText',\n",
       "  'is a query string with a / in it valid?',\n",
       "  'How to convert the BYTEARRAYS to NSString in objective -c',\n",
       "  'why is std::chrono::duration based on seconds',\n",
       "  'WCF REST Client Exception',\n",
       "  'Using UIBinder to create a Widget to go into a Dialog',\n",
       "  'OneDrive for Business :\"invalid_request\",\"error_description\":\"AADSTS90014: The request body must contain the following parameter: \\'grant_type',\n",
       "  'Are the any options for interfacing with the command prompt process from a .NET application other than the standard IO?',\n",
       "  'Adding data in the database using microsoft access and OleDb in C#',\n",
       "  'jQuery Ajax header not being passed',\n",
       "  'AngularJS: Multiple views with routing without losing scope',\n",
       "  'BackboneJS How to merge collections',\n",
       "  'Specflow :Could not load file or assembly TechTalk.SpecFlow, Version=2.2.0.0',\n",
       "  'Max byte calculated by System.Runtime.InteropServices.Marshal.SizeOf()',\n",
       "  'How can my application retrieve custom fields from a DocuSign transaction?',\n",
       "  'add active state to button in a button group',\n",
       "  'How to define clear range for pixel color',\n",
       "  'Roslyn VisualBasic.ScriptEngine doesnt recognize hostObject written on C#',\n",
       "  \"Neither BindingResult nor plain target object for bean name 'categoryOptions' available as request attribute\",\n",
       "  'How to change Wicket behaviour on Page Expired',\n",
       "  'PHPUnit code coverage show 0% coverage',\n",
       "  'How to prove code correctness lemmas with the \"undefined\" constant',\n",
       "  'Visual Studio has insufficient privileges to debug this process. To debug this process, Visual Studio must be run as an administrator',\n",
       "  'WebApi EntitySetController using composite keys',\n",
       "  'How do I set up an OpenGL project using XCode 4.2 in C++?',\n",
       "  'Initialize static NSString at class level',\n",
       "  'Rich Text Editor inside Flux Form',\n",
       "  'Setting $PATH in xampp osx',\n",
       "  'How to extract data from html using PHP',\n",
       "  'How to get Current location using MapModule?',\n",
       "  'Excel VBA Syntax Errors & Compiling Issues',\n",
       "  'How to read Logback configuration file from path outside the war file?',\n",
       "  'jQuery ajax not getting every div elements',\n",
       "  'TCP Socket on JAVA - Any byte >= 128 is received as 65533',\n",
       "  'SqlBulkCopy keeps on throwing connection forcibly closed exception',\n",
       "  'Error sending to the following VALID addresses Jenkins',\n",
       "  'How to determine if a text has balanced delimiters?',\n",
       "  'How to flick through a deck of cards?',\n",
       "  'Selecting in SQLite Database Android',\n",
       "  \"TSQL merge Incorrect syntax near ','\",\n",
       "  'Building Pocketsphinx On Android on Windows',\n",
       "  'Add background image in a div without empty space between div and footer',\n",
       "  'Include github project into wordpress plugin',\n",
       "  'django multivaluefield & multiwidget - compress and/or decompress not working',\n",
       "  'Android : Can i call my onresume() inside onpause().?',\n",
       "  'How to fit picture to absolute positioning modal window?',\n",
       "  'Redirect URL to PHP only if file does not exist with Nginx',\n",
       "  'Laravel 4 Exception: NotFoundHttpException',\n",
       "  'How To Start Using Kostache?',\n",
       "  'Assigned access application exits when Ctrl + Alt + Delete is pressed.',\n",
       "  'Circular dependency error when running migrations in Django 1.7c2',\n",
       "  'JavaFX setOnShown fires before window is visible',\n",
       "  'Flash Develop - Publishing',\n",
       "  'I want to use the variable I declared somewhere else but I cannot (simple sql query)',\n",
       "  'buttons are not displayed',\n",
       "  'Prevent Twitter responsive layout from collapsing when width < 320px',\n",
       "  'Show azure cost analysis data using Azure billing API/SDK',\n",
       "  'find the field names from a search query',\n",
       "  'OAuth 2.0 OpenID Connect Loopback and Keycloak',\n",
       "  'Windows Phone: How to retrieve the same photo from media library between application instances',\n",
       "  'Symfony2: determine if a controller is called from a development environment or from a production environment',\n",
       "  'When UITableView is fully reloaded',\n",
       "  'http.post(url, postData, options) does not set header',\n",
       "  'JSON stringify outputs empty object for not empty object',\n",
       "  'Display.syncExec not working inside Callable',\n",
       "  'XPath to first occurrence of element with text length >= 200 characters',\n",
       "  'Unable to push a docker image to local OpenShift Origin registry',\n",
       "  'SlideDown() using JavaScript not working as intended',\n",
       "  'Threading.Tasks Dispose meaning issue',\n",
       "  'VAL() function in JavaScript',\n",
       "  'Using php to send form to my email..Having an issue with 405 Not Allowed when form is submitted',\n",
       "  'Netty closeFuture().sync().channel(); blocks rest api',\n",
       "  'How to check if a specific button exists in Scrapy?',\n",
       "  'Remove logs from ORMLite Android',\n",
       "  'Language detection API/Library',\n",
       "  'Should I make 1 form for each upvote button or 1 form for all the buttons?',\n",
       "  'Eclipse GAE JDO 3.0',\n",
       "  'django-cms editors and HTML data attribute cleaned up',\n",
       "  'Xcode build error clang failed',\n",
       "  'setTimeout from a web worker',\n",
       "  'C# Populating a listview from a List',\n",
       "  'Javascript not working in django inline formset using urlify.js',\n",
       "  'PHP multi cURL performance worse than sequential file_get_contents',\n",
       "  'Converting PHP Contact Form to SMTP',\n",
       "  'How do I prevent the original method being called when mocking a class with PHPUnit?',\n",
       "  'Ensure footer will stick to bottom of page and flex with content',\n",
       "  'How to share files from any path using a FileProvider?',\n",
       "  'R: How to build sum of arrays third dimension containing NAs and returning a list?',\n",
       "  'Speeding up a strangely slow Rcpp function',\n",
       "  'How to create a service that sends/receives UDP broadcasts on multiple interfaces',\n",
       "  'Can someone tell me how to replace the following javascript code with a loop?',\n",
       "  'UIImageView layer border issue',\n",
       "  'COM object created by CComObject::CreateInstance not destroyed when pointer goes out of scope',\n",
       "  'Run 2 sql query with 1 query for save query result as .csv format',\n",
       "  'AWS Elastic Beanstalk Vs EC2 Container Service (ECS) - Docker',\n",
       "  'Connect to remote MongoDB instance from ASP.NET',\n",
       "  'Copying files with unicode names',\n",
       "  \"ASP.NET Web application doesn't unload AppDomains after deploy\",\n",
       "  'Getting YouTube livestream URL',\n",
       "  \"Can't use ToString() in LINQ to Entities query\",\n",
       "  'list comprehension to create list and for no-data value feed default value',\n",
       "  \"JSX element type 'XXX' does not have any construct or call signatures\",\n",
       "  'Subroutine unexpectedly ends when a Workbook is closed',\n",
       "  'Creating a result set (using a select statement ) within a loop',\n",
       "  'Laravel 4.2 - Environment detection - homestead.yaml vs. start.php',\n",
       "  'Deploy a shell script with Ruby gem and install in bin directory',\n",
       "  'Change a string into an int',\n",
       "  'How do I stop a MySQL decimal field from being rounded?',\n",
       "  \"Respecting argparse's privacy, vs. usability\",\n",
       "  'Very simple Web Service in Python',\n",
       "  'Emoji and UIWebView in iOS 5',\n",
       "  'Getting IOError: [Errno Invalid number of channels] -9998 when using mic with PyAudio on Raspberry Pi',\n",
       "  'Mono on Mac OS X - Parallel HTTP Downloads limited to 2',\n",
       "  'Delete files, directories and buckets in amazon s3 java',\n",
       "  'Android: Saving form data on a swipe rather than from a button',\n",
       "  'No description or item name on PayPal Payment Received email',\n",
       "  'Code igniter with data mapper giving in valid json',\n",
       "  'Where can I find official / canonical documentation for using JavaScript with \"classic\" ASP?',\n",
       "  \"BroadcastReceiver isn't working\",\n",
       "  'Array compare and count which has similar values and which not',\n",
       "  \"How to cancel 'viewWillAppear' after UIImagePickerController is dismissed\",\n",
       "  'In Scala, is it possible to write a script which refers to another script',\n",
       "  \"after reload page IE is not retaining it's scroll position\",\n",
       "  'SpringBoot multiple authentication adapter',\n",
       "  'SMTP Contact Form blank screen on Submit',\n",
       "  'Destroy all sessions but one',\n",
       "  'C# WIndows CE Compact Framework 2.0 Set System Timezone',\n",
       "  'Appropriate representation of a 2D game board in Clojure',\n",
       "  'Ionic emulate ios shows black screen',\n",
       "  'How update APi with AngularJS?',\n",
       "  'Javascript based redirect: will it hurt SEO?',\n",
       "  'What is the difference between these two SOAP requests?',\n",
       "  'Microsoft Access Report - How to cycle through all pages of a report in print view?',\n",
       "  \"What does Actor[akka:\\\\\\\\play\\\\deadLetters].tell() mean in a New Relic's trace of a Play Framework 2.0 web transaction?\",\n",
       "  'JRuby 1.7.0 will not install bundler given plenty of memory',\n",
       "  'solr multiple tokenizers for query',\n",
       "  'Is it possible to pass an EJS variable to an Angular ng-repeat filter?',\n",
       "  'How To Read Data using Ip Address',\n",
       "  'SSIS XML Decryption Message',\n",
       "  'Detecting selection change on a UITextView?',\n",
       "  'Different CSS background-image depending on month and year',\n",
       "  \"What's the equivalent averageifs for standard deviation?\",\n",
       "  'Segmentation faults using f2py',\n",
       "  ...]]"
      ]
     },
     "execution_count": 47,
     "metadata": {
      "tags": []
     },
     "output_type": "execute_result"
    }
   ],
   "source": [
    "validation[:1]"
   ]
  },
  {
   "cell_type": "code",
   "execution_count": 0,
   "metadata": {
    "colab": {},
    "colab_type": "code",
    "id": "hilfWHkq4kle"
   },
   "outputs": [],
   "source": [
    "from sklearn.metrics.pairwise import cosine_similarity"
   ]
  },
  {
   "cell_type": "code",
   "execution_count": 28,
   "metadata": {
    "colab": {
     "base_uri": "https://localhost:8080/",
     "height": 52
    },
    "colab_type": "code",
    "id": "Pb4pYmLO4klh",
    "outputId": "44a99bd4-7a07-4582-eb0b-440860be88fb"
   },
   "outputs": [
    {
     "name": "stdout",
     "output_type": "stream",
     "text": [
      "[(0.99, 1, 'Q2'), (0.2, 0, 'Q1'), (-0.3, 2, 'Q3')]\n",
      "[(1, 'Q2'), (0, 'Q1'), (2, 'Q3')]\n"
     ]
    }
   ],
   "source": [
    "sim = [0.2, .99, -.3]\n",
    "Qs = ['Q1', 'Q2', 'Q3']\n",
    "merged_list=list(zip(sim, range(3), Qs))\n",
    "sorted_list  = sorted(merged_list, key=lambda x: x[0], reverse=True)\n",
    "print(sorted_list)\n",
    "result = [(b,c) for a,b,c in sorted_list]\n",
    "print(result)"
   ]
  },
  {
   "cell_type": "markdown",
   "metadata": {
    "colab_type": "text",
    "id": "kHMD0mof4kll"
   },
   "source": [
    "We will use cosine distance to rank candidate questions which you need to implement in the function *rank_candidates*. The function should return a sorted list of pairs *(initial position in candidates list, candidate)*. Index of some pair corresponds to its rank (the first is the best). For example, if the list of candidates was *[a, b, c]* and the most similar is *c*, then *a* and *b*, the function should return a list *[(2, c), (0, a), (1, b)]*.\n",
    "\n",
    "Pay attention, if you use the function *cosine_similarity* from *sklearn.metrics.pairwise* to calculate similarity because it works in a different way: most similar objects has greatest similarity. It's preferable to use a vectorized version of *cosine_similarity* function. Try to compute similarity at once and not use list comprehension. It should speed up your computations significantly."
   ]
  },
  {
   "cell_type": "code",
   "execution_count": 0,
   "metadata": {
    "colab": {},
    "colab_type": "code",
    "id": "ASOaRBRe4klm"
   },
   "outputs": [],
   "source": [
    "def rank_candidates(question, candidates, embeddings, dim=300):\n",
    "    \"\"\"\n",
    "        question: a string\n",
    "        candidates: a list of strings (candidates) which we want to rank\n",
    "        embeddings: some embeddings\n",
    "        dim: dimension of the current embeddings\n",
    "        \n",
    "        result: a list of pairs (initial position in the list, question)\n",
    "    \"\"\"\n",
    "    \n",
    "    q_vecs = np.array([question_to_vec(question, embeddings, dim) for i in range(len(candidates))])\n",
    "    cand_vecs = np.array([question_to_vec(candidate, embeddings, dim) for candidate in candidates])\n",
    "    cosines = np.array(cosine_similarity(q_vecs, cand_vecs)[0])\n",
    "    merged_list = list(zip(cosines, range(len(candidates)), candidates))\n",
    "    #print(merged_list)\n",
    "    sorted_list  = sorted(merged_list, key=lambda x: x[0], reverse=True)\n",
    "    result = [(b,c) for a,b,c in sorted_list]\n",
    "    return result"
   ]
  },
  {
   "cell_type": "markdown",
   "metadata": {
    "colab_type": "text",
    "id": "Us4Im7yj4klp"
   },
   "source": [
    "Test your code on the tiny examples:"
   ]
  },
  {
   "cell_type": "code",
   "execution_count": 0,
   "metadata": {
    "colab": {},
    "colab_type": "code",
    "id": "ktyN3tsV4klq"
   },
   "outputs": [],
   "source": [
    "def test_rank_candidates():\n",
    "    questions = ['converting string to list', 'Sending array via Ajax fails']\n",
    "    candidates = [['Convert Google results object (pure js) to Python object', \n",
    "                   'C# create cookie from string and send it',\n",
    "                   'How to use jQuery AJAX for an outside domain?'], \n",
    "                  ['Getting all list items of an unordered list in PHP', \n",
    "                   'WPF- How to update the changes in list item of a list', \n",
    "                   'select2 not displaying search results']]\n",
    "    results = [[(1, 'C# create cookie from string and send it'), \n",
    "                (0, 'Convert Google results object (pure js) to Python object'), \n",
    "                (2, 'How to use jQuery AJAX for an outside domain?')],\n",
    "               [(0, 'Getting all list items of an unordered list in PHP'), \n",
    "                (2, 'select2 not displaying search results'), \n",
    "                (1, 'WPF- How to update the changes in list item of a list')]]\n",
    "    for question, q_candidates, result in zip(questions, candidates, results):\n",
    "        ranks = rank_candidates(question, q_candidates, wv_embeddings, 300)\n",
    "        if not np.all(ranks == result):\n",
    "            return \"Check the function.\"\n",
    "    return \"Basic tests are passed.\""
   ]
  },
  {
   "cell_type": "code",
   "execution_count": 31,
   "metadata": {
    "colab": {
     "base_uri": "https://localhost:8080/",
     "height": 34
    },
    "colab_type": "code",
    "id": "Kx9rmD7w4kls",
    "outputId": "7133b41d-e5ba-40a7-c922-6b91f430474f"
   },
   "outputs": [
    {
     "name": "stdout",
     "output_type": "stream",
     "text": [
      "Basic tests are passed.\n"
     ]
    }
   ],
   "source": [
    "print(test_rank_candidates())"
   ]
  },
  {
   "cell_type": "markdown",
   "metadata": {
    "colab_type": "text",
    "id": "H5HibZXA4kly"
   },
   "source": [
    "Now we can test the quality of the current approach. Run the next two cells to get the results. Pay attention that calculation of similarity between vectors takes time and this calculation is computed approximately in 10 minutes."
   ]
  },
  {
   "cell_type": "code",
   "execution_count": 0,
   "metadata": {
    "colab": {},
    "colab_type": "code",
    "id": "MbIfy8T34klz"
   },
   "outputs": [],
   "source": [
    "wv_ranking = []\n",
    "for line in validation:\n",
    "    q, *ex = line\n",
    "    ranks = rank_candidates(q, ex, wv_embeddings)\n",
    "    wv_ranking.append([r[0] for r in ranks].index(0) + 1)"
   ]
  },
  {
   "cell_type": "code",
   "execution_count": 33,
   "metadata": {
    "colab": {
     "base_uri": "https://localhost:8080/",
     "height": 121
    },
    "colab_type": "code",
    "id": "ppl79rdp4kl4",
    "outputId": "69828724-1ab9-4846-9727-da69e7db7852"
   },
   "outputs": [
    {
     "name": "stdout",
     "output_type": "stream",
     "text": [
      "DCG@   1: 0.212 | Hits@   1: 0.212\n",
      "DCG@   5: 0.267 | Hits@   5: 0.315\n",
      "DCG@  10: 0.282 | Hits@  10: 0.363\n",
      "DCG@ 100: 0.320 | Hits@ 100: 0.552\n",
      "DCG@ 500: 0.353 | Hits@ 500: 0.811\n",
      "DCG@1000: 0.373 | Hits@1000: 1.000\n"
     ]
    }
   ],
   "source": [
    "for k in [1, 5, 10, 100, 500, 1000]:\n",
    "    print(\"DCG@%4d: %.3f | Hits@%4d: %.3f\" % (k, dcg_score(wv_ranking, k), k, hits_count(wv_ranking, k)))"
   ]
  },
  {
   "cell_type": "markdown",
   "metadata": {
    "colab_type": "text",
    "id": "M8gf1Q6t4kl7"
   },
   "source": [
    "If you did all the steps correctly, you should be frustrated by the received results. Let's try to understand why the quality is so low. First of all, when you work with some data it is necessary to have an idea how the data looks like. Print several questions from the data:"
   ]
  },
  {
   "cell_type": "code",
   "execution_count": 34,
   "metadata": {
    "colab": {
     "base_uri": "https://localhost:8080/",
     "height": 89
    },
    "colab_type": "code",
    "id": "ks5VuzXI4kl8",
    "outputId": "b7e3d2de-dc8b-43f9-b6af-7cdb5c4cc918"
   },
   "outputs": [
    {
     "name": "stdout",
     "output_type": "stream",
     "text": [
      "How to print a binary heap tree without recursion? How do you best convert a recursive function to an iterative one? How can i use ng-model with directive in angular js flash: drawing and erasing\n",
      "How to start PhoneStateListener programmatically? PhoneStateListener and service Java cast object[] to model WCF and What does this mean?\n",
      "jQuery: Show a div2 when mousenter over div1 is over when hover on div1 depenting on if it is on div2 or not it should act differently How to run selenium in google app engine/cloud? Python Comparing two lists of strings for similarities\n"
     ]
    }
   ],
   "source": [
    "for line in validation[:3]:\n",
    "    q, *examples = line\n",
    "    print(q, *examples[:3])"
   ]
  },
  {
   "cell_type": "markdown",
   "metadata": {
    "colab_type": "text",
    "id": "RntgijOn4kl_"
   },
   "source": [
    "As you can see, we deal with the raw data. It means that we have many punctuation marks, special characters and unlowercased letters. In our case, it could lead to the situation where we can't find some embeddings, e.g. for the word \"grid?\". \n",
    "\n",
    "To solve this problem you should use the functions *text_prepare* from the previous assignments to prepare the data."
   ]
  },
  {
   "cell_type": "code",
   "execution_count": 0,
   "metadata": {
    "colab": {},
    "colab_type": "code",
    "id": "9ak-FMye4kmA"
   },
   "outputs": [],
   "source": [
    "from util import text_prepare"
   ]
  },
  {
   "cell_type": "markdown",
   "metadata": {
    "colab_type": "text",
    "id": "1c6aBr2w4kmC"
   },
   "source": [
    "Now transform all the questions from the validation set:"
   ]
  },
  {
   "cell_type": "code",
   "execution_count": 0,
   "metadata": {
    "colab": {},
    "colab_type": "code",
    "id": "fu3_PoUq4kmC"
   },
   "outputs": [],
   "source": [
    "prepared_validation = []\n",
    "for line in validation:\n",
    "    prepared_validation.append([text_prepare(sentence) for sentence in line])"
   ]
  },
  {
   "cell_type": "markdown",
   "metadata": {
    "colab_type": "text",
    "id": "PeBJzrsh4kmE"
   },
   "source": [
    "Let's evaluate the approach again after the preparation:"
   ]
  },
  {
   "cell_type": "code",
   "execution_count": 0,
   "metadata": {
    "colab": {},
    "colab_type": "code",
    "id": "iME1lW0H4kmF"
   },
   "outputs": [],
   "source": [
    "wv_prepared_ranking = []\n",
    "for line in prepared_validation:\n",
    "    q, *ex = line\n",
    "    ranks = rank_candidates(q, ex, wv_embeddings)\n",
    "    wv_prepared_ranking.append([r[0] for r in ranks].index(0) + 1)"
   ]
  },
  {
   "cell_type": "code",
   "execution_count": 38,
   "metadata": {
    "colab": {
     "base_uri": "https://localhost:8080/",
     "height": 121
    },
    "colab_type": "code",
    "id": "9O4L5BFH4kmI",
    "outputId": "3c9f1802-ede2-4621-8bf6-aa4aa9ee8ccb"
   },
   "outputs": [
    {
     "name": "stdout",
     "output_type": "stream",
     "text": [
      "DCG@   1: 0.310 | Hits@   1: 0.310\n",
      "DCG@   5: 0.380 | Hits@   5: 0.443\n",
      "DCG@  10: 0.397 | Hits@  10: 0.494\n",
      "DCG@ 100: 0.430 | Hits@ 100: 0.661\n",
      "DCG@ 500: 0.453 | Hits@ 500: 0.835\n",
      "DCG@1000: 0.470 | Hits@1000: 1.000\n"
     ]
    }
   ],
   "source": [
    "for k in [1, 5, 10, 100, 500, 1000]:\n",
    "    print(\"DCG@%4d: %.3f | Hits@%4d: %.3f\" % (k, dcg_score(wv_prepared_ranking, k), \n",
    "                                              k, hits_count(wv_prepared_ranking, k)))"
   ]
  },
  {
   "cell_type": "markdown",
   "metadata": {
    "colab_type": "text",
    "id": "l7JoijY_4kmL"
   },
   "source": [
    "Now, prepare also train and test data, because you will need it in the future:"
   ]
  },
  {
   "cell_type": "code",
   "execution_count": 0,
   "metadata": {
    "colab": {},
    "colab_type": "code",
    "id": "AlImk3V04kmN"
   },
   "outputs": [],
   "source": [
    "def prepare_file(in_, out_):\n",
    "    out = open(out_, 'w')\n",
    "    for line in open(in_, encoding='utf8'):\n",
    "        line = line.strip().split('\\t')\n",
    "        new_line = [text_prepare(q) for q in line]\n",
    "        print(*new_line, sep='\\t', file=out)\n",
    "    out.close()"
   ]
  },
  {
   "cell_type": "code",
   "execution_count": 0,
   "metadata": {
    "colab": {},
    "colab_type": "code",
    "id": "MHP-23Cn4kmP"
   },
   "outputs": [],
   "source": [
    "prepare_file('data/train.tsv', 'data/prepared_train.tsv')\n",
    "prepare_file('data/test.tsv', 'data/prepared_test.tsv')"
   ]
  },
  {
   "cell_type": "markdown",
   "metadata": {
    "colab_type": "text",
    "id": "VuJadKiv4kmS"
   },
   "source": [
    "**Task 4 (W2VTokenizedRanks).** For each question from prepared *test.tsv* submit the ranks of the candidates to earn the points. The calculations should take about 3-5 minutes. Pay attention that the function *rank_candidates* returns a ranking, while in this case you should find a position in this ranking. Ranks should start with 1."
   ]
  },
  {
   "cell_type": "code",
   "execution_count": 0,
   "metadata": {
    "colab": {},
    "colab_type": "code",
    "id": "Ux1tAWqC4kmS"
   },
   "outputs": [],
   "source": [
    "from util import matrix_to_string"
   ]
  },
  {
   "cell_type": "code",
   "execution_count": 42,
   "metadata": {
    "colab": {
     "base_uri": "https://localhost:8080/",
     "height": 54
    },
    "colab_type": "code",
    "id": "pEEjLilW4kmW",
    "outputId": "4738ed99-c34d-4c0c-dacc-54df3ffa6a05"
   },
   "outputs": [
    {
     "name": "stdout",
     "output_type": "stream",
     "text": [
      "Current answer for task W2VTokenizedRanks is: 95\t94\t7\t9\t64\t36\t31\t93\t23\t100\t99\t20\t60\t6\t97\t48\t70\t37\t41\t96\t29\t56\t2\t65\t68\t44\t27\t25\t57\t62\t11\t87\t50\t66\t7...\n"
     ]
    }
   ],
   "source": [
    "w2v_ranks_results = []\n",
    "prepared_test_data = 'data/prepared_test.tsv'\n",
    "for line in open(prepared_test_data):\n",
    "    q, *ex = line.strip().split('\\t')\n",
    "    ranks = rank_candidates(q, ex, wv_embeddings, 300)\n",
    "    ranked_candidates = [r[0] for r in ranks]\n",
    "    w2v_ranks_results.append([ranked_candidates.index(i) + 1 for i in range(len(ranked_candidates))])\n",
    "    \n",
    "grader.submit_tag('W2VTokenizedRanks', matrix_to_string(w2v_ranks_results))"
   ]
  },
  {
   "cell_type": "markdown",
   "metadata": {
    "colab_type": "text",
    "id": "ufZuWhhM4kmZ"
   },
   "source": [
    "## Advanced solution: StarSpace embeddings\n",
    "\n",
    "Now you are ready to train your own word embeddings! In particular, you need to train embeddings specially for our task of duplicates detection. Unfortunately, StarSpace cannot be run on Windows and we recommend to use provided\n",
    "[docker container](https://github.com/hse-aml/natural-language-processing/blob/master/Docker-tutorial.md) or other alternatives. Don't delete results of this task because you will need it in the final project.\n",
    "\n",
    "### How it works and what's the main difference with word2vec?\n",
    "The main point in this section is that StarSpace can be trained specifically for some tasks. In contrast to word2vec model, which tries to train similar embeddings for words in similar contexts, StarSpace uses embeddings for the whole sentence (just as a sum of embeddings of words and phrases). Despite the fact that in both cases we get word embeddings as a result of the training, StarSpace embeddings are trained using some supervised data, e.g. a set of similar sentence pairs, and thus they can better suit the task.\n",
    "\n",
    "In our case, StarSpace should use two types of sentence pairs for training: \"positive\" and \"negative\". \"Positive\" examples are extracted from the train sample (duplicates, high similarity) and the \"negative\" examples are generated randomly (low similarity assumed). \n",
    "\n",
    "### How to choose the best params for the model?\n",
    "Normally, you would start with some default choice and then run extensive experiments to compare different strategies. However, we have some recommendations ready for you to save your time:\n",
    "- Be careful with choosing the suitable training mode. In this task we want to explore texts similarity which corresponds to *trainMode = 3*.\n",
    "- Use adagrad optimization (parameter *adagrad = true*).\n",
    "- Set the length of phrase equal to 1 (parameter *ngrams*), because we need embeddings only for words.\n",
    "- Don't use a large number of *epochs* (we think that 5 should be enough).\n",
    "- Try dimension *dim* equal to 100.\n",
    "- To compare embeddings usually *cosine* *similarity* is used.\n",
    "- Set *minCount* greater than 1 (for example, 2) if you don't want to get embeddings for extremely rare words.\n",
    "- Parameter *verbose = true* could show you the progress of the training process.\n",
    "- Set parameter *fileFormat* equals *labelDoc*.\n",
    "- Parameter *negSearchLimit* is responsible for a number of negative examples which is used during the training. We think that 10 will be enought for this task.\n",
    "- To increase a speed of training we recommend to set *learning rate* to 0.05."
   ]
  },
  {
   "cell_type": "markdown",
   "metadata": {
    "colab_type": "text",
    "id": "ZAFWF14V4kma"
   },
   "source": [
    "Train StarSpace embeddings for unigrams on the train dataset. You don't need to change the format of the input data. Just don't forget to use prepared version of the training data. \n",
    "\n",
    "If you follow the instruction, the training process will take about 1 hour. The size of the embeddings' dictionary should be approximately 100 000 (number of lines in the result file). If you got significantly more than this number, try to check all the instructions above."
   ]
  },
  {
   "cell_type": "code",
   "execution_count": 43,
   "metadata": {
    "colab": {
     "base_uri": "https://localhost:8080/",
     "height": 955
    },
    "colab_type": "code",
    "id": "OnFBkO4H4kmb",
    "outputId": "c38a6b32-8c1e-4e00-ba4d-973a2ca15901"
   },
   "outputs": [
    {
     "name": "stdout",
     "output_type": "stream",
     "text": [
      "Arguments: \n",
      "lr: 0.05\n",
      "dim: 100\n",
      "epoch: 5\n",
      "maxTrainTime: 8640000\n",
      "validationPatience: 10\n",
      "saveEveryEpoch: 0\n",
      "loss: hinge\n",
      "margin: 0.05\n",
      "similarity: cosine\n",
      "maxNegSamples: 10\n",
      "negSearchLimit: 10\n",
      "batchSize: 5\n",
      "thread: 10\n",
      "minCount: 2\n",
      "minCountLabel: 1\n",
      "label: __label__\n",
      "label: __label__\n",
      "ngrams: 1\n",
      "bucket: 2000000\n",
      "adagrad: 1\n",
      "trainMode: 3\n",
      "fileFormat: labelDoc\n",
      "normalizeText: 0\n",
      "dropoutLHS: 0\n",
      "dropoutRHS: 0\n",
      "useWeight: 0\n",
      "weightSep: :\n",
      "Start to initialize starspace model.\n",
      "Build dict from input file : data/prepared_train.tsv\n",
      "Read 12M words\n",
      "Number of words in dictionary:  95058\n",
      "Number of labels in dictionary: 0\n",
      "Loading data from file : data/prepared_train.tsv\n",
      "Total number of examples loaded : 999740\n",
      "Initialized model weights. Model size :\n",
      "matrix : 95058 100\n",
      "Training epoch 0: 0.05 0.01\n",
      "Epoch: 100.0%  lr: 0.040000  loss: 0.043222  eta: 0h11m  tot: 0h2m49s  (20.0%)\n",
      " ---+++                Epoch    0 Train error : 0.04377275 +++--- ☃\n",
      "Training epoch 1: 0.04 0.01\n",
      "Epoch: 100.0%  lr: 0.030040  loss: 0.013126  eta: 0h7m  tot: 0h5m22s  (40.0%)\n",
      " ---+++                Epoch    1 Train error : 0.01317570 +++--- ☃\n",
      "Training epoch 2: 0.03 0.01\n",
      "Epoch: 100.0%  lr: 0.020000  loss: 0.009233  eta: 0h5m  tot: 0h7m53s  (60.0%)\n",
      " ---+++                Epoch    2 Train error : 0.00937825 +++--- ☃\n",
      "Training epoch 3: 0.02 0.01\n",
      "Epoch: 100.0%  lr: 0.010010  loss: 0.007825  eta: 0h2m  tot: 0h10m22s  (80.0%)\n",
      " ---+++                Epoch    3 Train error : 0.00768638 +++--- ☃\n",
      "Training epoch 4: 0.01 0.01\n",
      "Epoch: 100.0%  lr: 0.000000  loss: 0.006796  eta: <1min   tot: 0h12m49s  (100.0%)\n",
      " ---+++                Epoch    4 Train error : 0.00685594 +++--- ☃\n",
      "Saving model to file : starspace_embedding\n",
      "Saving model in tsv format : starspace_embedding.tsv\n"
     ]
    }
   ],
   "source": [
    "!starspace train -trainFile \"data/prepared_train.tsv\" -model starspace_embedding \\\n",
    "-trainMode 3 -adagrad true -ngrams 1 -epoch 5 -dim 100 -similarity cosine -minCount 2 \\\n",
    "-verbose true -fileFormat labelDoc -negSearchLimit 10 -lr 0.05"
   ]
  },
  {
   "cell_type": "markdown",
   "metadata": {
    "colab_type": "text",
    "collapsed": true,
    "id": "VlZCVgOL4kmd"
   },
   "source": [
    "And now we can compare the new embeddings with the previous ones. You can find trained word vectors in the file *[model_file_name].tsv*. Upload the embeddings from StarSpace into a dict. "
   ]
  },
  {
   "cell_type": "code",
   "execution_count": 0,
   "metadata": {
    "colab": {},
    "colab_type": "code",
    "id": "Ifpz19SQ4kmd"
   },
   "outputs": [],
   "source": [
    "starspace_embeddings = dict()\n",
    "for line in open('starspace_embedding.tsv', encoding='utf-8'):\n",
    "    row = line.strip().split('\\t')\n",
    "    starspace_embeddings[row[0]] = np.array(row[1:], dtype=np.float32)"
   ]
  },
  {
   "cell_type": "code",
   "execution_count": 0,
   "metadata": {
    "colab": {},
    "colab_type": "code",
    "id": "eJ7AMx3J4kmh"
   },
   "outputs": [],
   "source": [
    "ss_prepared_ranking = []\n",
    "for line in prepared_validation:\n",
    "    q, *ex = line\n",
    "    ranks = rank_candidates(q, ex, starspace_embeddings, 100)\n",
    "    ss_prepared_ranking.append([r[0] for r in ranks].index(0) + 1)"
   ]
  },
  {
   "cell_type": "code",
   "execution_count": 46,
   "metadata": {
    "colab": {
     "base_uri": "https://localhost:8080/",
     "height": 121
    },
    "colab_type": "code",
    "id": "EaziZvzl4kmk",
    "outputId": "b9a32cc2-dadd-471c-be80-7ce116ff1ef2"
   },
   "outputs": [
    {
     "name": "stdout",
     "output_type": "stream",
     "text": [
      "DCG@   1: 0.516 | Hits@   1: 0.516\n",
      "DCG@   5: 0.613 | Hits@   5: 0.696\n",
      "DCG@  10: 0.632 | Hits@  10: 0.757\n",
      "DCG@ 100: 0.663 | Hits@ 100: 0.903\n",
      "DCG@ 500: 0.673 | Hits@ 500: 0.981\n",
      "DCG@1000: 0.675 | Hits@1000: 1.000\n"
     ]
    }
   ],
   "source": [
    "for k in [1, 5, 10, 100, 500, 1000]:\n",
    "    print(\"DCG@%4d: %.3f | Hits@%4d: %.3f\" % (k, dcg_score(ss_prepared_ranking, k), \n",
    "                                               k, hits_count(ss_prepared_ranking, k)))"
   ]
  },
  {
   "cell_type": "markdown",
   "metadata": {
    "colab_type": "text",
    "id": "Mw07tLKf4kmp"
   },
   "source": [
    "Due to training for the particular task with the supervised data, you should expect to obtain a higher quality than for the previous approach. In additiion, despite the fact that StarSpace's trained vectors have a smaller dimension than word2vec's, it provides better results in this task."
   ]
  },
  {
   "cell_type": "markdown",
   "metadata": {
    "colab_type": "text",
    "id": "ggb1HDKk4kmp"
   },
   "source": [
    "**Task 5 (StarSpaceRanks).** For each question from prepared *test.tsv* submit the ranks of the candidates for trained representation."
   ]
  },
  {
   "cell_type": "code",
   "execution_count": 47,
   "metadata": {
    "colab": {
     "base_uri": "https://localhost:8080/",
     "height": 54
    },
    "colab_type": "code",
    "id": "iPcGb2FP4kmq",
    "outputId": "3f4d74ea-63b8-464c-e0d3-b83cb4413597"
   },
   "outputs": [
    {
     "name": "stdout",
     "output_type": "stream",
     "text": [
      "Current answer for task StarSpaceRanks is: 71\t96\t62\t39\t32\t82\t84\t37\t47\t95\t22\t18\t52\t61\t98\t65\t20\t89\t35\t67\t78\t38\t5\t66\t100\t28\t94\t40\t80\t1\t70\t48\t88\t26...\n"
     ]
    }
   ],
   "source": [
    "starspace_ranks_results = []\n",
    "prepared_test_data = 'data/prepared_test.tsv'\n",
    "for line in open(prepared_test_data):\n",
    "    q, *ex = line.strip().split('\\t')\n",
    "    ranks = rank_candidates(q, ex, starspace_embeddings, 100)\n",
    "    ranked_candidates = [r[0] for r in ranks]\n",
    "    starspace_ranks_results.append([ranked_candidates.index(i) + 1 for i in range(len(ranked_candidates))])\n",
    "    \n",
    "grader.submit_tag('StarSpaceRanks', matrix_to_string(starspace_ranks_results))"
   ]
  },
  {
   "cell_type": "markdown",
   "metadata": {
    "colab_type": "text",
    "id": "2RDmBTTQ4kms"
   },
   "source": [
    "Please, **don't remove** the file with these embeddings because you will need them in the final project."
   ]
  },
  {
   "cell_type": "markdown",
   "metadata": {
    "colab_type": "text",
    "id": "XoNT37qp4kms"
   },
   "source": [
    "### Authorization & Submission\n",
    "To submit assignment parts to Cousera platform, please, enter your e-mail and token into variables below. You can generate token on this programming assignment page. <b>Note:</b> Token expires 30 minutes after generation."
   ]
  },
  {
   "cell_type": "code",
   "execution_count": 48,
   "metadata": {
    "colab": {
     "base_uri": "https://localhost:8080/",
     "height": 627
    },
    "colab_type": "code",
    "id": "InPA7soA4kmt",
    "outputId": "f5699e23-37c7-4f23-f6fb-0917e33325b5"
   },
   "outputs": [
    {
     "name": "stdout",
     "output_type": "stream",
     "text": [
      "You want to submit these parts:\n",
      "Task Question2Vec: 0.019293891059027776\n",
      "-0.028727213541666668\n",
      "0.046056111653645836\n",
      "0.08525933159722222\n",
      "0.02430555555555...\n",
      "Task HitsCount: 1.0\n",
      "0.5\n",
      "1.0\n",
      "0.5\n",
      "1.0\n",
      "0.3333333333333333\n",
      "0.6666666666666666\n",
      "1.0\n",
      "0.1\n",
      "0.2\n",
      "0.3\n",
      "0.4\n",
      "0.5\n",
      "0.6\n",
      "0.7\n",
      "0.8\n",
      "0.9\n",
      "1....\n",
      "Task DCGScore: 1.0\n",
      "0.5\n",
      "0.8154648767857288\n",
      "0.5\n",
      "0.8154648767857288\n",
      "0.3333333333333333\n",
      "0.5436432511904858\n",
      "0.7103099178...\n",
      "Task W2VTokenizedRanks: 95\t94\t7\t9\t64\t36\t31\t93\t23\t100\t99\t20\t60\t6\t97\t48\t70\t37\t41\t96\t29\t56\t2\t65\t68\t44\t27\t25\t57\t62\t11\t87\t50\t66\t7...\n",
      "Task StarSpaceRanks: 71\t96\t62\t39\t32\t82\t84\t37\t47\t95\t22\t18\t52\t61\t98\t65\t20\t89\t35\t67\t78\t38\t5\t66\t100\t28\t94\t40\t80\t1\t70\t48\t88\t26...\n"
     ]
    }
   ],
   "source": [
    "STUDENT_EMAIL = 'nnahid878@gmail.com'\n",
    "STUDENT_TOKEN = 'gMKSzz3iORigWST7' \n",
    "grader.status()"
   ]
  },
  {
   "cell_type": "markdown",
   "metadata": {
    "colab_type": "text",
    "id": "7jtJwx0e4kmw"
   },
   "source": [
    "If you want to submit these answers, run cell below"
   ]
  },
  {
   "cell_type": "code",
   "execution_count": 49,
   "metadata": {
    "colab": {
     "base_uri": "https://localhost:8080/",
     "height": 34
    },
    "colab_type": "code",
    "id": "VvfakWsD4kmw",
    "outputId": "3aa384e5-cc65-4d9e-f113-e3d06c2ed13d"
   },
   "outputs": [
    {
     "name": "stdout",
     "output_type": "stream",
     "text": [
      "Submitted to Coursera platform. See results on assignment page!\n"
     ]
    }
   ],
   "source": [
    "grader.submit(STUDENT_EMAIL, STUDENT_TOKEN)"
   ]
  }
 ],
 "metadata": {
  "accelerator": "GPU",
  "colab": {
   "name": "week3-Embeddings.ipynb",
   "provenance": []
  },
  "kernelspec": {
   "display_name": "Python 3",
   "language": "python",
   "name": "python3"
  },
  "language_info": {
   "codemirror_mode": {
    "name": "ipython",
    "version": 3
   },
   "file_extension": ".py",
   "mimetype": "text/x-python",
   "name": "python",
   "nbconvert_exporter": "python",
   "pygments_lexer": "ipython3",
   "version": "3.6.7"
  },
  "widgets": {
   "application/vnd.jupyter.widget-state+json": {
    "032cb928db744c98ab702067a5e28995": {
     "model_module": "@jupyter-widgets/controls",
     "model_name": "HBoxModel",
     "state": {
      "_dom_classes": [],
      "_model_module": "@jupyter-widgets/controls",
      "_model_module_version": "1.5.0",
      "_model_name": "HBoxModel",
      "_view_count": null,
      "_view_module": "@jupyter-widgets/controls",
      "_view_module_version": "1.5.0",
      "_view_name": "HBoxView",
      "box_style": "",
      "children": [
       "IPY_MODEL_1bf899a919c74aada2c49faf88a8bafc",
       "IPY_MODEL_31fac6a5adcc487f9b19d6061c438741"
      ],
      "layout": "IPY_MODEL_c7f58ef3ab4f42eaab754d8779c9e517"
     }
    },
    "03d493e271b040cdbe6eba6ffe7a49ff": {
     "model_module": "@jupyter-widgets/controls",
     "model_name": "HTMLModel",
     "state": {
      "_dom_classes": [],
      "_model_module": "@jupyter-widgets/controls",
      "_model_module_version": "1.5.0",
      "_model_name": "HTMLModel",
      "_view_count": null,
      "_view_module": "@jupyter-widgets/controls",
      "_view_module_version": "1.5.0",
      "_view_name": "HTMLView",
      "description": "",
      "description_tooltip": null,
      "layout": "IPY_MODEL_563b1e553ebb4d39875aec2d8b12c84a",
      "placeholder": "​",
      "style": "IPY_MODEL_7007721eda694375ba2ca2778cb61c16",
      "value": " 119M/119M [02:29&lt;00:00, 796kB/s]"
     }
    },
    "04cd7fbecc514284945bcce0d9cbe2dc": {
     "model_module": "@jupyter-widgets/base",
     "model_name": "LayoutModel",
     "state": {
      "_model_module": "@jupyter-widgets/base",
      "_model_module_version": "1.2.0",
      "_model_name": "LayoutModel",
      "_view_count": null,
      "_view_module": "@jupyter-widgets/base",
      "_view_module_version": "1.2.0",
      "_view_name": "LayoutView",
      "align_content": null,
      "align_items": null,
      "align_self": null,
      "border": null,
      "bottom": null,
      "display": null,
      "flex": null,
      "flex_flow": null,
      "grid_area": null,
      "grid_auto_columns": null,
      "grid_auto_flow": null,
      "grid_auto_rows": null,
      "grid_column": null,
      "grid_gap": null,
      "grid_row": null,
      "grid_template_areas": null,
      "grid_template_columns": null,
      "grid_template_rows": null,
      "height": null,
      "justify_content": null,
      "justify_items": null,
      "left": null,
      "margin": null,
      "max_height": null,
      "max_width": null,
      "min_height": null,
      "min_width": null,
      "object_fit": null,
      "object_position": null,
      "order": null,
      "overflow": null,
      "overflow_x": null,
      "overflow_y": null,
      "padding": null,
      "right": null,
      "top": null,
      "visibility": null,
      "width": null
     }
    },
    "05bdcc4354ca4e5ebf3d4ead8d73e2dc": {
     "model_module": "@jupyter-widgets/controls",
     "model_name": "FloatProgressModel",
     "state": {
      "_dom_classes": [],
      "_model_module": "@jupyter-widgets/controls",
      "_model_module_version": "1.5.0",
      "_model_name": "FloatProgressModel",
      "_view_count": null,
      "_view_module": "@jupyter-widgets/controls",
      "_view_module_version": "1.5.0",
      "_view_name": "ProgressView",
      "bar_style": "success",
      "description": "GoogleNews-vectors-negative300.bin.gz: 100%",
      "description_tooltip": null,
      "layout": "IPY_MODEL_3bd7fec10ef6486a8e33e2b7502cf95c",
      "max": 1647046227,
      "min": 0,
      "orientation": "horizontal",
      "style": "IPY_MODEL_5281d2083f5e4ad08ad9e5218cc13f16",
      "value": 1647046227
     }
    },
    "0cc25b76d27b4df9b346313e56da7db4": {
     "model_module": "@jupyter-widgets/controls",
     "model_name": "DescriptionStyleModel",
     "state": {
      "_model_module": "@jupyter-widgets/controls",
      "_model_module_version": "1.5.0",
      "_model_name": "DescriptionStyleModel",
      "_view_count": null,
      "_view_module": "@jupyter-widgets/base",
      "_view_module_version": "1.2.0",
      "_view_name": "StyleView",
      "description_width": ""
     }
    },
    "0d9de0f2fb034acbae3a265fbe9e2293": {
     "model_module": "@jupyter-widgets/controls",
     "model_name": "FloatProgressModel",
     "state": {
      "_dom_classes": [],
      "_model_module": "@jupyter-widgets/controls",
      "_model_module_version": "1.5.0",
      "_model_name": "FloatProgressModel",
      "_view_count": null,
      "_view_module": "@jupyter-widgets/controls",
      "_view_module_version": "1.5.0",
      "_view_name": "ProgressView",
      "bar_style": "success",
      "description": "train.tsv: 100%",
      "description_tooltip": null,
      "layout": "IPY_MODEL_a142e71a5ebe427984dcfc407784c7db",
      "max": 119127793,
      "min": 0,
      "orientation": "horizontal",
      "style": "IPY_MODEL_16064b5dc18a426d826cd90890baa583",
      "value": 119127793
     }
    },
    "16064b5dc18a426d826cd90890baa583": {
     "model_module": "@jupyter-widgets/controls",
     "model_name": "ProgressStyleModel",
     "state": {
      "_model_module": "@jupyter-widgets/controls",
      "_model_module_version": "1.5.0",
      "_model_name": "ProgressStyleModel",
      "_view_count": null,
      "_view_module": "@jupyter-widgets/base",
      "_view_module_version": "1.2.0",
      "_view_name": "StyleView",
      "bar_color": null,
      "description_width": "initial"
     }
    },
    "1a050a7165e74ddcacfd69edb2a3d90d": {
     "model_module": "@jupyter-widgets/base",
     "model_name": "LayoutModel",
     "state": {
      "_model_module": "@jupyter-widgets/base",
      "_model_module_version": "1.2.0",
      "_model_name": "LayoutModel",
      "_view_count": null,
      "_view_module": "@jupyter-widgets/base",
      "_view_module_version": "1.2.0",
      "_view_name": "LayoutView",
      "align_content": null,
      "align_items": null,
      "align_self": null,
      "border": null,
      "bottom": null,
      "display": null,
      "flex": null,
      "flex_flow": null,
      "grid_area": null,
      "grid_auto_columns": null,
      "grid_auto_flow": null,
      "grid_auto_rows": null,
      "grid_column": null,
      "grid_gap": null,
      "grid_row": null,
      "grid_template_areas": null,
      "grid_template_columns": null,
      "grid_template_rows": null,
      "height": null,
      "justify_content": null,
      "justify_items": null,
      "left": null,
      "margin": null,
      "max_height": null,
      "max_width": null,
      "min_height": null,
      "min_width": null,
      "object_fit": null,
      "object_position": null,
      "order": null,
      "overflow": null,
      "overflow_x": null,
      "overflow_y": null,
      "padding": null,
      "right": null,
      "top": null,
      "visibility": null,
      "width": null
     }
    },
    "1bf899a919c74aada2c49faf88a8bafc": {
     "model_module": "@jupyter-widgets/controls",
     "model_name": "FloatProgressModel",
     "state": {
      "_dom_classes": [],
      "_model_module": "@jupyter-widgets/controls",
      "_model_module_version": "1.5.0",
      "_model_name": "FloatProgressModel",
      "_view_count": null,
      "_view_module": "@jupyter-widgets/controls",
      "_view_module_version": "1.5.0",
      "_view_name": "ProgressView",
      "bar_style": "success",
      "description": "validation.tsv: 100%",
      "description_tooltip": null,
      "layout": "IPY_MODEL_29269a4f9a6b4a5a8548cf7ce42adb1f",
      "max": 535543630,
      "min": 0,
      "orientation": "horizontal",
      "style": "IPY_MODEL_20f545bc1a8f4dfba3fb4178675715a3",
      "value": 535543630
     }
    },
    "20d31cb042a949bd832f3508da18b4b3": {
     "model_module": "@jupyter-widgets/base",
     "model_name": "LayoutModel",
     "state": {
      "_model_module": "@jupyter-widgets/base",
      "_model_module_version": "1.2.0",
      "_model_name": "LayoutModel",
      "_view_count": null,
      "_view_module": "@jupyter-widgets/base",
      "_view_module_version": "1.2.0",
      "_view_name": "LayoutView",
      "align_content": null,
      "align_items": null,
      "align_self": null,
      "border": null,
      "bottom": null,
      "display": null,
      "flex": null,
      "flex_flow": null,
      "grid_area": null,
      "grid_auto_columns": null,
      "grid_auto_flow": null,
      "grid_auto_rows": null,
      "grid_column": null,
      "grid_gap": null,
      "grid_row": null,
      "grid_template_areas": null,
      "grid_template_columns": null,
      "grid_template_rows": null,
      "height": null,
      "justify_content": null,
      "justify_items": null,
      "left": null,
      "margin": null,
      "max_height": null,
      "max_width": null,
      "min_height": null,
      "min_width": null,
      "object_fit": null,
      "object_position": null,
      "order": null,
      "overflow": null,
      "overflow_x": null,
      "overflow_y": null,
      "padding": null,
      "right": null,
      "top": null,
      "visibility": null,
      "width": null
     }
    },
    "20f545bc1a8f4dfba3fb4178675715a3": {
     "model_module": "@jupyter-widgets/controls",
     "model_name": "ProgressStyleModel",
     "state": {
      "_model_module": "@jupyter-widgets/controls",
      "_model_module_version": "1.5.0",
      "_model_name": "ProgressStyleModel",
      "_view_count": null,
      "_view_module": "@jupyter-widgets/base",
      "_view_module_version": "1.2.0",
      "_view_name": "StyleView",
      "bar_color": null,
      "description_width": "initial"
     }
    },
    "2531231ebb114ed499085aef83113430": {
     "model_module": "@jupyter-widgets/controls",
     "model_name": "DescriptionStyleModel",
     "state": {
      "_model_module": "@jupyter-widgets/controls",
      "_model_module_version": "1.5.0",
      "_model_name": "DescriptionStyleModel",
      "_view_count": null,
      "_view_module": "@jupyter-widgets/base",
      "_view_module_version": "1.2.0",
      "_view_name": "StyleView",
      "description_width": ""
     }
    },
    "26674fd798ee41b9a4bddcd628f100f2": {
     "model_module": "@jupyter-widgets/controls",
     "model_name": "FloatProgressModel",
     "state": {
      "_dom_classes": [],
      "_model_module": "@jupyter-widgets/controls",
      "_model_module_version": "1.5.0",
      "_model_name": "FloatProgressModel",
      "_view_count": null,
      "_view_module": "@jupyter-widgets/controls",
      "_view_module_version": "1.5.0",
      "_view_name": "ProgressView",
      "bar_style": "success",
      "description": "test.tsv: 100%",
      "description_tooltip": null,
      "layout": "IPY_MODEL_d1b99867b6ad48b2bcdb8d4e879f6c39",
      "max": 46408910,
      "min": 0,
      "orientation": "horizontal",
      "style": "IPY_MODEL_a9cc6c3d1b9c4d22b24337177ba05663",
      "value": 46408910
     }
    },
    "29269a4f9a6b4a5a8548cf7ce42adb1f": {
     "model_module": "@jupyter-widgets/base",
     "model_name": "LayoutModel",
     "state": {
      "_model_module": "@jupyter-widgets/base",
      "_model_module_version": "1.2.0",
      "_model_name": "LayoutModel",
      "_view_count": null,
      "_view_module": "@jupyter-widgets/base",
      "_view_module_version": "1.2.0",
      "_view_name": "LayoutView",
      "align_content": null,
      "align_items": null,
      "align_self": null,
      "border": null,
      "bottom": null,
      "display": null,
      "flex": null,
      "flex_flow": null,
      "grid_area": null,
      "grid_auto_columns": null,
      "grid_auto_flow": null,
      "grid_auto_rows": null,
      "grid_column": null,
      "grid_gap": null,
      "grid_row": null,
      "grid_template_areas": null,
      "grid_template_columns": null,
      "grid_template_rows": null,
      "height": null,
      "justify_content": null,
      "justify_items": null,
      "left": null,
      "margin": null,
      "max_height": null,
      "max_width": null,
      "min_height": null,
      "min_width": null,
      "object_fit": null,
      "object_position": null,
      "order": null,
      "overflow": null,
      "overflow_x": null,
      "overflow_y": null,
      "padding": null,
      "right": null,
      "top": null,
      "visibility": null,
      "width": null
     }
    },
    "31fac6a5adcc487f9b19d6061c438741": {
     "model_module": "@jupyter-widgets/controls",
     "model_name": "HTMLModel",
     "state": {
      "_dom_classes": [],
      "_model_module": "@jupyter-widgets/controls",
      "_model_module_version": "1.5.0",
      "_model_name": "HTMLModel",
      "_view_count": null,
      "_view_module": "@jupyter-widgets/controls",
      "_view_module_version": "1.5.0",
      "_view_name": "HTMLView",
      "description": "",
      "description_tooltip": null,
      "layout": "IPY_MODEL_c464b1a512fe4ccbb1a4e8d9fe17a632",
      "placeholder": "​",
      "style": "IPY_MODEL_2531231ebb114ed499085aef83113430",
      "value": " 536M/536M [00:39&lt;00:00, 13.6MB/s]"
     }
    },
    "32ff91d57999419cb5b9460e4c3cc112": {
     "model_module": "@jupyter-widgets/controls",
     "model_name": "HBoxModel",
     "state": {
      "_dom_classes": [],
      "_model_module": "@jupyter-widgets/controls",
      "_model_module_version": "1.5.0",
      "_model_name": "HBoxModel",
      "_view_count": null,
      "_view_module": "@jupyter-widgets/controls",
      "_view_module_version": "1.5.0",
      "_view_name": "HBoxView",
      "box_style": "",
      "children": [
       "IPY_MODEL_0d9de0f2fb034acbae3a265fbe9e2293",
       "IPY_MODEL_03d493e271b040cdbe6eba6ffe7a49ff"
      ],
      "layout": "IPY_MODEL_83b87dac40b34e3da9ee0df0c6824cac"
     }
    },
    "3bd7fec10ef6486a8e33e2b7502cf95c": {
     "model_module": "@jupyter-widgets/base",
     "model_name": "LayoutModel",
     "state": {
      "_model_module": "@jupyter-widgets/base",
      "_model_module_version": "1.2.0",
      "_model_name": "LayoutModel",
      "_view_count": null,
      "_view_module": "@jupyter-widgets/base",
      "_view_module_version": "1.2.0",
      "_view_name": "LayoutView",
      "align_content": null,
      "align_items": null,
      "align_self": null,
      "border": null,
      "bottom": null,
      "display": null,
      "flex": null,
      "flex_flow": null,
      "grid_area": null,
      "grid_auto_columns": null,
      "grid_auto_flow": null,
      "grid_auto_rows": null,
      "grid_column": null,
      "grid_gap": null,
      "grid_row": null,
      "grid_template_areas": null,
      "grid_template_columns": null,
      "grid_template_rows": null,
      "height": null,
      "justify_content": null,
      "justify_items": null,
      "left": null,
      "margin": null,
      "max_height": null,
      "max_width": null,
      "min_height": null,
      "min_width": null,
      "object_fit": null,
      "object_position": null,
      "order": null,
      "overflow": null,
      "overflow_x": null,
      "overflow_y": null,
      "padding": null,
      "right": null,
      "top": null,
      "visibility": null,
      "width": null
     }
    },
    "5281d2083f5e4ad08ad9e5218cc13f16": {
     "model_module": "@jupyter-widgets/controls",
     "model_name": "ProgressStyleModel",
     "state": {
      "_model_module": "@jupyter-widgets/controls",
      "_model_module_version": "1.5.0",
      "_model_name": "ProgressStyleModel",
      "_view_count": null,
      "_view_module": "@jupyter-widgets/base",
      "_view_module_version": "1.2.0",
      "_view_name": "StyleView",
      "bar_color": null,
      "description_width": "initial"
     }
    },
    "563b1e553ebb4d39875aec2d8b12c84a": {
     "model_module": "@jupyter-widgets/base",
     "model_name": "LayoutModel",
     "state": {
      "_model_module": "@jupyter-widgets/base",
      "_model_module_version": "1.2.0",
      "_model_name": "LayoutModel",
      "_view_count": null,
      "_view_module": "@jupyter-widgets/base",
      "_view_module_version": "1.2.0",
      "_view_name": "LayoutView",
      "align_content": null,
      "align_items": null,
      "align_self": null,
      "border": null,
      "bottom": null,
      "display": null,
      "flex": null,
      "flex_flow": null,
      "grid_area": null,
      "grid_auto_columns": null,
      "grid_auto_flow": null,
      "grid_auto_rows": null,
      "grid_column": null,
      "grid_gap": null,
      "grid_row": null,
      "grid_template_areas": null,
      "grid_template_columns": null,
      "grid_template_rows": null,
      "height": null,
      "justify_content": null,
      "justify_items": null,
      "left": null,
      "margin": null,
      "max_height": null,
      "max_width": null,
      "min_height": null,
      "min_width": null,
      "object_fit": null,
      "object_position": null,
      "order": null,
      "overflow": null,
      "overflow_x": null,
      "overflow_y": null,
      "padding": null,
      "right": null,
      "top": null,
      "visibility": null,
      "width": null
     }
    },
    "655123c3a4bf41909edce7188b59a4ed": {
     "model_module": "@jupyter-widgets/base",
     "model_name": "LayoutModel",
     "state": {
      "_model_module": "@jupyter-widgets/base",
      "_model_module_version": "1.2.0",
      "_model_name": "LayoutModel",
      "_view_count": null,
      "_view_module": "@jupyter-widgets/base",
      "_view_module_version": "1.2.0",
      "_view_name": "LayoutView",
      "align_content": null,
      "align_items": null,
      "align_self": null,
      "border": null,
      "bottom": null,
      "display": null,
      "flex": null,
      "flex_flow": null,
      "grid_area": null,
      "grid_auto_columns": null,
      "grid_auto_flow": null,
      "grid_auto_rows": null,
      "grid_column": null,
      "grid_gap": null,
      "grid_row": null,
      "grid_template_areas": null,
      "grid_template_columns": null,
      "grid_template_rows": null,
      "height": null,
      "justify_content": null,
      "justify_items": null,
      "left": null,
      "margin": null,
      "max_height": null,
      "max_width": null,
      "min_height": null,
      "min_width": null,
      "object_fit": null,
      "object_position": null,
      "order": null,
      "overflow": null,
      "overflow_x": null,
      "overflow_y": null,
      "padding": null,
      "right": null,
      "top": null,
      "visibility": null,
      "width": null
     }
    },
    "682384be1612483ba3af2b5f5037f8d3": {
     "model_module": "@jupyter-widgets/controls",
     "model_name": "HBoxModel",
     "state": {
      "_dom_classes": [],
      "_model_module": "@jupyter-widgets/controls",
      "_model_module_version": "1.5.0",
      "_model_name": "HBoxModel",
      "_view_count": null,
      "_view_module": "@jupyter-widgets/controls",
      "_view_module_version": "1.5.0",
      "_view_name": "HBoxView",
      "box_style": "",
      "children": [
       "IPY_MODEL_26674fd798ee41b9a4bddcd628f100f2",
       "IPY_MODEL_beb08e6015de48499170457db7f0cee1"
      ],
      "layout": "IPY_MODEL_f9080b9b8f5e417ca9e95d00a3558141"
     }
    },
    "7007721eda694375ba2ca2778cb61c16": {
     "model_module": "@jupyter-widgets/controls",
     "model_name": "DescriptionStyleModel",
     "state": {
      "_model_module": "@jupyter-widgets/controls",
      "_model_module_version": "1.5.0",
      "_model_name": "DescriptionStyleModel",
      "_view_count": null,
      "_view_module": "@jupyter-widgets/base",
      "_view_module_version": "1.2.0",
      "_view_name": "StyleView",
      "description_width": ""
     }
    },
    "71923978280c4a86a79a31e2fd74b609": {
     "model_module": "@jupyter-widgets/controls",
     "model_name": "HTMLModel",
     "state": {
      "_dom_classes": [],
      "_model_module": "@jupyter-widgets/controls",
      "_model_module_version": "1.5.0",
      "_model_name": "HTMLModel",
      "_view_count": null,
      "_view_module": "@jupyter-widgets/controls",
      "_view_module_version": "1.5.0",
      "_view_name": "HTMLView",
      "description": "",
      "description_tooltip": null,
      "layout": "IPY_MODEL_cc07617a2df04c6c968186063752aa4d",
      "placeholder": "​",
      "style": "IPY_MODEL_ef7f25db83be4b19ac1c352dcc21666b",
      "value": " 1.65G/1.65G [01:38&lt;00:00, 16.7MB/s]"
     }
    },
    "83b87dac40b34e3da9ee0df0c6824cac": {
     "model_module": "@jupyter-widgets/base",
     "model_name": "LayoutModel",
     "state": {
      "_model_module": "@jupyter-widgets/base",
      "_model_module_version": "1.2.0",
      "_model_name": "LayoutModel",
      "_view_count": null,
      "_view_module": "@jupyter-widgets/base",
      "_view_module_version": "1.2.0",
      "_view_name": "LayoutView",
      "align_content": null,
      "align_items": null,
      "align_self": null,
      "border": null,
      "bottom": null,
      "display": null,
      "flex": null,
      "flex_flow": null,
      "grid_area": null,
      "grid_auto_columns": null,
      "grid_auto_flow": null,
      "grid_auto_rows": null,
      "grid_column": null,
      "grid_gap": null,
      "grid_row": null,
      "grid_template_areas": null,
      "grid_template_columns": null,
      "grid_template_rows": null,
      "height": null,
      "justify_content": null,
      "justify_items": null,
      "left": null,
      "margin": null,
      "max_height": null,
      "max_width": null,
      "min_height": null,
      "min_width": null,
      "object_fit": null,
      "object_position": null,
      "order": null,
      "overflow": null,
      "overflow_x": null,
      "overflow_y": null,
      "padding": null,
      "right": null,
      "top": null,
      "visibility": null,
      "width": null
     }
    },
    "a142e71a5ebe427984dcfc407784c7db": {
     "model_module": "@jupyter-widgets/base",
     "model_name": "LayoutModel",
     "state": {
      "_model_module": "@jupyter-widgets/base",
      "_model_module_version": "1.2.0",
      "_model_name": "LayoutModel",
      "_view_count": null,
      "_view_module": "@jupyter-widgets/base",
      "_view_module_version": "1.2.0",
      "_view_name": "LayoutView",
      "align_content": null,
      "align_items": null,
      "align_self": null,
      "border": null,
      "bottom": null,
      "display": null,
      "flex": null,
      "flex_flow": null,
      "grid_area": null,
      "grid_auto_columns": null,
      "grid_auto_flow": null,
      "grid_auto_rows": null,
      "grid_column": null,
      "grid_gap": null,
      "grid_row": null,
      "grid_template_areas": null,
      "grid_template_columns": null,
      "grid_template_rows": null,
      "height": null,
      "justify_content": null,
      "justify_items": null,
      "left": null,
      "margin": null,
      "max_height": null,
      "max_width": null,
      "min_height": null,
      "min_width": null,
      "object_fit": null,
      "object_position": null,
      "order": null,
      "overflow": null,
      "overflow_x": null,
      "overflow_y": null,
      "padding": null,
      "right": null,
      "top": null,
      "visibility": null,
      "width": null
     }
    },
    "a56be0fd2b0f472d8f0421e11180c45f": {
     "model_module": "@jupyter-widgets/base",
     "model_name": "LayoutModel",
     "state": {
      "_model_module": "@jupyter-widgets/base",
      "_model_module_version": "1.2.0",
      "_model_name": "LayoutModel",
      "_view_count": null,
      "_view_module": "@jupyter-widgets/base",
      "_view_module_version": "1.2.0",
      "_view_name": "LayoutView",
      "align_content": null,
      "align_items": null,
      "align_self": null,
      "border": null,
      "bottom": null,
      "display": null,
      "flex": null,
      "flex_flow": null,
      "grid_area": null,
      "grid_auto_columns": null,
      "grid_auto_flow": null,
      "grid_auto_rows": null,
      "grid_column": null,
      "grid_gap": null,
      "grid_row": null,
      "grid_template_areas": null,
      "grid_template_columns": null,
      "grid_template_rows": null,
      "height": null,
      "justify_content": null,
      "justify_items": null,
      "left": null,
      "margin": null,
      "max_height": null,
      "max_width": null,
      "min_height": null,
      "min_width": null,
      "object_fit": null,
      "object_position": null,
      "order": null,
      "overflow": null,
      "overflow_x": null,
      "overflow_y": null,
      "padding": null,
      "right": null,
      "top": null,
      "visibility": null,
      "width": null
     }
    },
    "a9cc6c3d1b9c4d22b24337177ba05663": {
     "model_module": "@jupyter-widgets/controls",
     "model_name": "ProgressStyleModel",
     "state": {
      "_model_module": "@jupyter-widgets/controls",
      "_model_module_version": "1.5.0",
      "_model_name": "ProgressStyleModel",
      "_view_count": null,
      "_view_module": "@jupyter-widgets/base",
      "_view_module_version": "1.2.0",
      "_view_name": "StyleView",
      "bar_color": null,
      "description_width": "initial"
     }
    },
    "aeaf19d425224907bff64043888d8fbc": {
     "model_module": "@jupyter-widgets/controls",
     "model_name": "ProgressStyleModel",
     "state": {
      "_model_module": "@jupyter-widgets/controls",
      "_model_module_version": "1.5.0",
      "_model_name": "ProgressStyleModel",
      "_view_count": null,
      "_view_module": "@jupyter-widgets/base",
      "_view_module_version": "1.2.0",
      "_view_name": "StyleView",
      "bar_color": null,
      "description_width": "initial"
     }
    },
    "b07ae63a8efe497091604eed2bb089de": {
     "model_module": "@jupyter-widgets/controls",
     "model_name": "HTMLModel",
     "state": {
      "_dom_classes": [],
      "_model_module": "@jupyter-widgets/controls",
      "_model_module_version": "1.5.0",
      "_model_name": "HTMLModel",
      "_view_count": null,
      "_view_module": "@jupyter-widgets/controls",
      "_view_module_version": "1.5.0",
      "_view_name": "HTMLView",
      "description": "",
      "description_tooltip": null,
      "layout": "IPY_MODEL_20d31cb042a949bd832f3508da18b4b3",
      "placeholder": "​",
      "style": "IPY_MODEL_db4cc3fafcc94d2dba537d0b162269d8",
      "value": " 5.33k/5.33k [01:39&lt;00:00, 53.7B/s]"
     }
    },
    "beb08e6015de48499170457db7f0cee1": {
     "model_module": "@jupyter-widgets/controls",
     "model_name": "HTMLModel",
     "state": {
      "_dom_classes": [],
      "_model_module": "@jupyter-widgets/controls",
      "_model_module_version": "1.5.0",
      "_model_name": "HTMLModel",
      "_view_count": null,
      "_view_module": "@jupyter-widgets/controls",
      "_view_module_version": "1.5.0",
      "_view_name": "HTMLView",
      "description": "",
      "description_tooltip": null,
      "layout": "IPY_MODEL_655123c3a4bf41909edce7188b59a4ed",
      "placeholder": "​",
      "style": "IPY_MODEL_0cc25b76d27b4df9b346313e56da7db4",
      "value": " 46.4M/46.4M [00:05&lt;00:00, 8.47MB/s]"
     }
    },
    "c464b1a512fe4ccbb1a4e8d9fe17a632": {
     "model_module": "@jupyter-widgets/base",
     "model_name": "LayoutModel",
     "state": {
      "_model_module": "@jupyter-widgets/base",
      "_model_module_version": "1.2.0",
      "_model_name": "LayoutModel",
      "_view_count": null,
      "_view_module": "@jupyter-widgets/base",
      "_view_module_version": "1.2.0",
      "_view_name": "LayoutView",
      "align_content": null,
      "align_items": null,
      "align_self": null,
      "border": null,
      "bottom": null,
      "display": null,
      "flex": null,
      "flex_flow": null,
      "grid_area": null,
      "grid_auto_columns": null,
      "grid_auto_flow": null,
      "grid_auto_rows": null,
      "grid_column": null,
      "grid_gap": null,
      "grid_row": null,
      "grid_template_areas": null,
      "grid_template_columns": null,
      "grid_template_rows": null,
      "height": null,
      "justify_content": null,
      "justify_items": null,
      "left": null,
      "margin": null,
      "max_height": null,
      "max_width": null,
      "min_height": null,
      "min_width": null,
      "object_fit": null,
      "object_position": null,
      "order": null,
      "overflow": null,
      "overflow_x": null,
      "overflow_y": null,
      "padding": null,
      "right": null,
      "top": null,
      "visibility": null,
      "width": null
     }
    },
    "c7f58ef3ab4f42eaab754d8779c9e517": {
     "model_module": "@jupyter-widgets/base",
     "model_name": "LayoutModel",
     "state": {
      "_model_module": "@jupyter-widgets/base",
      "_model_module_version": "1.2.0",
      "_model_name": "LayoutModel",
      "_view_count": null,
      "_view_module": "@jupyter-widgets/base",
      "_view_module_version": "1.2.0",
      "_view_name": "LayoutView",
      "align_content": null,
      "align_items": null,
      "align_self": null,
      "border": null,
      "bottom": null,
      "display": null,
      "flex": null,
      "flex_flow": null,
      "grid_area": null,
      "grid_auto_columns": null,
      "grid_auto_flow": null,
      "grid_auto_rows": null,
      "grid_column": null,
      "grid_gap": null,
      "grid_row": null,
      "grid_template_areas": null,
      "grid_template_columns": null,
      "grid_template_rows": null,
      "height": null,
      "justify_content": null,
      "justify_items": null,
      "left": null,
      "margin": null,
      "max_height": null,
      "max_width": null,
      "min_height": null,
      "min_width": null,
      "object_fit": null,
      "object_position": null,
      "order": null,
      "overflow": null,
      "overflow_x": null,
      "overflow_y": null,
      "padding": null,
      "right": null,
      "top": null,
      "visibility": null,
      "width": null
     }
    },
    "cc07617a2df04c6c968186063752aa4d": {
     "model_module": "@jupyter-widgets/base",
     "model_name": "LayoutModel",
     "state": {
      "_model_module": "@jupyter-widgets/base",
      "_model_module_version": "1.2.0",
      "_model_name": "LayoutModel",
      "_view_count": null,
      "_view_module": "@jupyter-widgets/base",
      "_view_module_version": "1.2.0",
      "_view_name": "LayoutView",
      "align_content": null,
      "align_items": null,
      "align_self": null,
      "border": null,
      "bottom": null,
      "display": null,
      "flex": null,
      "flex_flow": null,
      "grid_area": null,
      "grid_auto_columns": null,
      "grid_auto_flow": null,
      "grid_auto_rows": null,
      "grid_column": null,
      "grid_gap": null,
      "grid_row": null,
      "grid_template_areas": null,
      "grid_template_columns": null,
      "grid_template_rows": null,
      "height": null,
      "justify_content": null,
      "justify_items": null,
      "left": null,
      "margin": null,
      "max_height": null,
      "max_width": null,
      "min_height": null,
      "min_width": null,
      "object_fit": null,
      "object_position": null,
      "order": null,
      "overflow": null,
      "overflow_x": null,
      "overflow_y": null,
      "padding": null,
      "right": null,
      "top": null,
      "visibility": null,
      "width": null
     }
    },
    "d1b99867b6ad48b2bcdb8d4e879f6c39": {
     "model_module": "@jupyter-widgets/base",
     "model_name": "LayoutModel",
     "state": {
      "_model_module": "@jupyter-widgets/base",
      "_model_module_version": "1.2.0",
      "_model_name": "LayoutModel",
      "_view_count": null,
      "_view_module": "@jupyter-widgets/base",
      "_view_module_version": "1.2.0",
      "_view_name": "LayoutView",
      "align_content": null,
      "align_items": null,
      "align_self": null,
      "border": null,
      "bottom": null,
      "display": null,
      "flex": null,
      "flex_flow": null,
      "grid_area": null,
      "grid_auto_columns": null,
      "grid_auto_flow": null,
      "grid_auto_rows": null,
      "grid_column": null,
      "grid_gap": null,
      "grid_row": null,
      "grid_template_areas": null,
      "grid_template_columns": null,
      "grid_template_rows": null,
      "height": null,
      "justify_content": null,
      "justify_items": null,
      "left": null,
      "margin": null,
      "max_height": null,
      "max_width": null,
      "min_height": null,
      "min_width": null,
      "object_fit": null,
      "object_position": null,
      "order": null,
      "overflow": null,
      "overflow_x": null,
      "overflow_y": null,
      "padding": null,
      "right": null,
      "top": null,
      "visibility": null,
      "width": null
     }
    },
    "db4cc3fafcc94d2dba537d0b162269d8": {
     "model_module": "@jupyter-widgets/controls",
     "model_name": "DescriptionStyleModel",
     "state": {
      "_model_module": "@jupyter-widgets/controls",
      "_model_module_version": "1.5.0",
      "_model_name": "DescriptionStyleModel",
      "_view_count": null,
      "_view_module": "@jupyter-widgets/base",
      "_view_module_version": "1.2.0",
      "_view_name": "StyleView",
      "description_width": ""
     }
    },
    "db9f4b852ff34d749e287462d44ad04f": {
     "model_module": "@jupyter-widgets/controls",
     "model_name": "FloatProgressModel",
     "state": {
      "_dom_classes": [],
      "_model_module": "@jupyter-widgets/controls",
      "_model_module_version": "1.5.0",
      "_model_name": "FloatProgressModel",
      "_view_count": null,
      "_view_module": "@jupyter-widgets/controls",
      "_view_module_version": "1.5.0",
      "_view_name": "ProgressView",
      "bar_style": "success",
      "description": "test_embeddings.tsv: 100%",
      "description_tooltip": null,
      "layout": "IPY_MODEL_04cd7fbecc514284945bcce0d9cbe2dc",
      "max": 5333,
      "min": 0,
      "orientation": "horizontal",
      "style": "IPY_MODEL_aeaf19d425224907bff64043888d8fbc",
      "value": 5333
     }
    },
    "ed640398358b4f6d9a31e1cce892e557": {
     "model_module": "@jupyter-widgets/controls",
     "model_name": "HBoxModel",
     "state": {
      "_dom_classes": [],
      "_model_module": "@jupyter-widgets/controls",
      "_model_module_version": "1.5.0",
      "_model_name": "HBoxModel",
      "_view_count": null,
      "_view_module": "@jupyter-widgets/controls",
      "_view_module_version": "1.5.0",
      "_view_name": "HBoxView",
      "box_style": "",
      "children": [
       "IPY_MODEL_05bdcc4354ca4e5ebf3d4ead8d73e2dc",
       "IPY_MODEL_71923978280c4a86a79a31e2fd74b609"
      ],
      "layout": "IPY_MODEL_a56be0fd2b0f472d8f0421e11180c45f"
     }
    },
    "ef7f25db83be4b19ac1c352dcc21666b": {
     "model_module": "@jupyter-widgets/controls",
     "model_name": "DescriptionStyleModel",
     "state": {
      "_model_module": "@jupyter-widgets/controls",
      "_model_module_version": "1.5.0",
      "_model_name": "DescriptionStyleModel",
      "_view_count": null,
      "_view_module": "@jupyter-widgets/base",
      "_view_module_version": "1.2.0",
      "_view_name": "StyleView",
      "description_width": ""
     }
    },
    "f04025f9fdaa4262aaa71d439b29945f": {
     "model_module": "@jupyter-widgets/controls",
     "model_name": "HBoxModel",
     "state": {
      "_dom_classes": [],
      "_model_module": "@jupyter-widgets/controls",
      "_model_module_version": "1.5.0",
      "_model_name": "HBoxModel",
      "_view_count": null,
      "_view_module": "@jupyter-widgets/controls",
      "_view_module_version": "1.5.0",
      "_view_name": "HBoxView",
      "box_style": "",
      "children": [
       "IPY_MODEL_db9f4b852ff34d749e287462d44ad04f",
       "IPY_MODEL_b07ae63a8efe497091604eed2bb089de"
      ],
      "layout": "IPY_MODEL_1a050a7165e74ddcacfd69edb2a3d90d"
     }
    },
    "f9080b9b8f5e417ca9e95d00a3558141": {
     "model_module": "@jupyter-widgets/base",
     "model_name": "LayoutModel",
     "state": {
      "_model_module": "@jupyter-widgets/base",
      "_model_module_version": "1.2.0",
      "_model_name": "LayoutModel",
      "_view_count": null,
      "_view_module": "@jupyter-widgets/base",
      "_view_module_version": "1.2.0",
      "_view_name": "LayoutView",
      "align_content": null,
      "align_items": null,
      "align_self": null,
      "border": null,
      "bottom": null,
      "display": null,
      "flex": null,
      "flex_flow": null,
      "grid_area": null,
      "grid_auto_columns": null,
      "grid_auto_flow": null,
      "grid_auto_rows": null,
      "grid_column": null,
      "grid_gap": null,
      "grid_row": null,
      "grid_template_areas": null,
      "grid_template_columns": null,
      "grid_template_rows": null,
      "height": null,
      "justify_content": null,
      "justify_items": null,
      "left": null,
      "margin": null,
      "max_height": null,
      "max_width": null,
      "min_height": null,
      "min_width": null,
      "object_fit": null,
      "object_position": null,
      "order": null,
      "overflow": null,
      "overflow_x": null,
      "overflow_y": null,
      "padding": null,
      "right": null,
      "top": null,
      "visibility": null,
      "width": null
     }
    }
   }
  }
 },
 "nbformat": 4,
 "nbformat_minor": 1
}
