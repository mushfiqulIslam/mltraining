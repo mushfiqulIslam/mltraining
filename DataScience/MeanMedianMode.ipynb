{
 "cells": [
  {
   "cell_type": "markdown",
   "metadata": {},
   "source": [
    "# Mean, Median, Mode, and introducing NumPy"
   ]
  },
  {
   "cell_type": "markdown",
   "metadata": {},
   "source": [
    "## Mean vs. Median"
   ]
  },
  {
   "cell_type": "markdown",
   "metadata": {},
   "source": [
    "Let's create some fake income data, centered around 27,000 with a normal distribution and standard deviation of 15,000, with 10,000 data points. (We'll discuss those terms more later, if you're not familiar with them.)\n",
    "\n",
    "Then, compute the mean (average) - it should be close to 27,000:"
   ]
  },
  {
   "cell_type": "code",
   "execution_count": 1,
   "metadata": {},
   "outputs": [
    {
     "data": {
      "text/plain": [
       "27062.727954085636"
      ]
     },
     "execution_count": 1,
     "metadata": {},
     "output_type": "execute_result"
    }
   ],
   "source": [
    "import numpy as np\n",
    "\n",
    "incomes = np.random.normal(27000, 15000, 10000)\n",
    "np.mean(incomes)"
   ]
  },
  {
   "cell_type": "markdown",
   "metadata": {},
   "source": [
    "We can segment the income data into 50 buckets, and plot it as a histogram:"
   ]
  },
  {
   "cell_type": "code",
   "execution_count": 2,
   "metadata": {},
   "outputs": [
    {
     "data": {
      "image/png": "[encoded data removed]",
      "text/plain": [
       "<Figure size 432x288 with 1 Axes>"
      ]
     },
     "metadata": {},
     "output_type": "display_data"
    }
   ],
   "source": [
    "%matplotlib inline\n",
    "import matplotlib.pyplot as plt\n",
    "plt.hist(incomes, 50)\n",
    "plt.show()"
   ]
  },
  {
   "cell_type": "markdown",
   "metadata": {},
   "source": [
    "Now compute the median - since we have a nice, even distribution it too should be close to 27,000:"
   ]
  },
  {
   "cell_type": "code",
   "execution_count": 3,
   "metadata": {},
   "outputs": [
    {
     "data": {
      "text/plain": [
       "26930.758286479635"
      ]
     },
     "execution_count": 3,
     "metadata": {},
     "output_type": "execute_result"
    }
   ],
   "source": [
    "np.median(incomes)"
   ]
  },
  {
   "cell_type": "markdown",
   "metadata": {},
   "source": [
    "Now we'll add Donald Trump into the mix. Darn income inequality!"
   ]
  },
  {
   "cell_type": "code",
   "execution_count": 4,
   "metadata": {},
   "outputs": [],
   "source": [
    "incomes = np.append(incomes, [1000000000])"
   ]
  },
  {
   "cell_type": "markdown",
   "metadata": {},
   "source": [
    "The median won't change much, but the mean does:"
   ]
  },
  {
   "cell_type": "code",
   "execution_count": 5,
   "metadata": {},
   "outputs": [
    {
     "data": {
      "text/plain": [
       "26931.053227871085"
      ]
     },
     "execution_count": 5,
     "metadata": {},
     "output_type": "execute_result"
    }
   ],
   "source": [
    "np.median(incomes)"
   ]
  },
  {
   "cell_type": "code",
   "execution_count": 6,
   "metadata": {},
   "outputs": [
    {
     "data": {
      "text/plain": [
       "127050.02295179045"
      ]
     },
     "execution_count": 6,
     "metadata": {},
     "output_type": "execute_result"
    }
   ],
   "source": [
    "np.mean(incomes)"
   ]
  },
  {
   "cell_type": "markdown",
   "metadata": {},
   "source": [
    "## Mode"
   ]
  },
  {
   "cell_type": "markdown",
   "metadata": {},
   "source": [
    "Next, let's generate some fake age data for 500 people:"
   ]
  },
  {
   "cell_type": "code",
   "execution_count": 7,
   "metadata": {},
   "outputs": [
    {
     "data": {
      "text/plain": [
       "array([63, 82, 66, 68, 52, 29, 18, 57, 45, 74, 79, 59, 57, 27, 84, 18, 75,\n",
       "       59, 35, 28, 79, 32, 46, 46, 39, 30, 48, 66, 63, 43, 25, 58, 60, 46,\n",
       "       29, 49, 28, 86, 54, 36, 62, 72, 55, 53, 69, 76, 28, 54, 55, 19, 42,\n",
       "       52, 30, 81, 71, 30, 39, 41, 22, 18, 58, 79, 41, 60, 63, 26, 34, 69,\n",
       "       62, 29, 48, 36, 38, 24, 68, 62, 44, 33, 76, 50, 37, 27, 32, 78, 83,\n",
       "       55, 81, 85, 35, 80, 33, 64, 51, 57, 52, 31, 70, 82, 87, 82, 59, 24,\n",
       "       36, 69, 63, 70, 28, 64, 36, 53, 77, 41, 79, 63, 18, 76, 65, 85, 67,\n",
       "       47, 77, 19, 52, 60, 83, 82, 57, 39, 58, 42, 74, 48, 53, 73, 78, 40,\n",
       "       50, 62, 45, 24, 37, 87, 39, 73, 56, 59, 86, 61, 48, 63, 89, 31, 30,\n",
       "       57, 25, 38, 42, 77, 59, 84, 76, 56, 27, 58, 45, 67, 50, 69, 58, 82,\n",
       "       86, 47, 31, 53, 29, 55, 30, 72, 63, 74, 46, 35, 72, 38, 56, 65, 86,\n",
       "       51, 36, 88, 45, 70, 79, 80, 52, 88, 36, 46, 81, 37, 45, 34, 37, 66,\n",
       "       23, 27, 39, 64, 76, 73, 41, 22, 18, 26, 57, 47, 21, 35, 48, 63, 19,\n",
       "       41, 28, 50, 18, 87, 64, 53, 86, 48, 85, 65, 57, 37, 56, 58, 34, 78,\n",
       "       20, 50, 53, 89, 78, 41, 67, 29, 21, 18, 40, 88, 21, 74, 71, 23, 75,\n",
       "       82, 64, 73, 19, 84, 59, 89, 38, 27, 73, 50, 27, 19, 58, 61, 70, 54,\n",
       "       82, 45, 84, 34, 53, 81, 57, 61, 24, 30, 19, 87, 48, 34, 62, 82, 42,\n",
       "       53, 18, 31, 48, 22, 62, 23, 21, 43, 52, 43, 21, 67, 25, 19, 34, 80,\n",
       "       30, 39, 45, 38, 77, 83, 60, 26, 55, 80, 46, 39, 51, 32, 27, 25, 29,\n",
       "       28, 29, 55, 37, 66, 69, 82, 86, 75, 82, 70, 22, 35, 70, 42, 83, 75,\n",
       "       30, 81, 32, 50, 52, 32, 54, 50, 81, 69, 85, 26, 82, 47, 36, 18, 41,\n",
       "       80, 18, 28, 53, 48, 39, 57, 22, 61, 69, 58, 43, 50, 77, 30, 58, 64,\n",
       "       49, 83, 45, 19, 41, 68, 68, 25, 48, 78, 75, 37, 89, 29, 83, 70, 66,\n",
       "       67, 29, 86, 21, 71, 77, 50, 45, 65, 21, 77, 48, 82, 69, 65, 24, 36,\n",
       "       25, 52, 85, 49, 87, 55, 58, 76, 54, 47, 51, 86, 82, 61, 77, 61, 40,\n",
       "       45, 73, 79, 43, 73, 31, 38, 48, 19, 22, 63, 73, 58, 81, 33, 51, 82,\n",
       "       37, 21, 19, 52, 86, 49, 28, 20, 36, 87, 87, 50, 45, 19, 42, 65, 84,\n",
       "       33, 49, 25, 66, 53, 52, 22, 33, 18, 26, 53, 78, 57, 23, 35, 67, 26,\n",
       "       74, 20, 73, 67, 22, 47, 64, 77, 20, 28, 21, 49, 69, 37, 36, 20, 18,\n",
       "       27, 65, 47, 52, 54, 44, 85])"
      ]
     },
     "execution_count": 7,
     "metadata": {},
     "output_type": "execute_result"
    }
   ],
   "source": [
    "ages = np.random.randint(18, high=90, size=500)\n",
    "ages"
   ]
  },
  {
   "cell_type": "code",
   "execution_count": 8,
   "metadata": {},
   "outputs": [
    {
     "data": {
      "text/plain": [
       "ModeResult(mode=array([82]), count=array([14]))"
      ]
     },
     "execution_count": 8,
     "metadata": {},
     "output_type": "execute_result"
    }
   ],
   "source": [
    "from scipy import stats\n",
    "stats.mode(ages)"
   ]
  },
  {
   "cell_type": "code",
   "execution_count": null,
   "metadata": {},
   "outputs": [],
   "source": []
  }
 ],
 "metadata": {
  "kernelspec": {
   "display_name": "Python 3",
   "language": "python",
   "name": "python3"
  },
  "language_info": {
   "codemirror_mode": {
    "name": "ipython",
    "version": 3
   },
   "file_extension": ".py",
   "mimetype": "text/x-python",
   "name": "python",
   "nbconvert_exporter": "python",
   "pygments_lexer": "ipython3",
   "version": "3.6.5"
  }
 },
 "nbformat": 4,
 "nbformat_minor": 1
}
